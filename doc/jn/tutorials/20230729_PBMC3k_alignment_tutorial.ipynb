{
 "cells": [
  {
   "cell_type": "markdown",
   "id": "741395b5",
   "metadata": {},
   "source": [
    "# Preprocessing and clustering 3k PBMCs"
   ]
  },
  {
   "cell_type": "markdown",
   "id": "4e8a3714",
   "metadata": {},
   "source": [
    "[paraphrase]\n",
    "We gratefully acknowledge Seurat’s and Scanpy's authors for the tutorials.\n",
    "\n",
    "The data consist of 3k PBMCs from a Healthy Donor and are freely available from 10x Genomics (here from this webpage). On a unix system, you can uncomment and run the following to download and unpack the data. The last line creates a directory for writing processed data."
   ]
  },
  {
   "cell_type": "code",
   "execution_count": 1,
   "id": "76b5bd9a",
   "metadata": {
    "ExecuteTime": {
     "end_time": "2023-08-06T02:54:58.871743Z",
     "start_time": "2023-08-06T02:54:48.954107Z"
    }
   },
   "outputs": [
    {
     "data": {
      "text/html": [
       "<style>.container { width:100% !important; }</style>"
      ],
      "text/plain": [
       "<IPython.core.display.HTML object>"
      ]
     },
     "metadata": {},
     "output_type": "display_data"
    },
    {
     "data": {
      "text/html": [
       "<style>div.cell{width:100%;margin-left:0%;margin-right:auto;}</style>"
      ],
      "text/plain": [
       "<IPython.core.display.HTML object>"
      ]
     },
     "metadata": {},
     "output_type": "display_data"
    }
   ],
   "source": [
    "import scelephant as el\n",
    "from scelephant import RamData\n",
    "\n",
    "\"\"\"\n",
    "configure the jupyter notebook environment\n",
    "\"\"\"\n",
    "el.bk.Wide( 100 ) # adjust the jupyter notebook cell width "
   ]
  },
  {
   "cell_type": "code",
   "execution_count": 2,
   "id": "3c17a52a",
   "metadata": {
    "ExecuteTime": {
     "end_time": "2023-08-06T02:54:59.460637Z",
     "start_time": "2023-08-06T02:54:58.877133Z"
    }
   },
   "outputs": [],
   "source": [
    "# delete the intermediate output folders\n",
    "!rm -rf \"data/\"\n",
    "!rm -rf \"output/\""
   ]
  },
  {
   "cell_type": "code",
   "execution_count": 3,
   "id": "0c96d7c5",
   "metadata": {
    "ExecuteTime": {
     "end_time": "2023-08-06T02:55:06.551277Z",
     "start_time": "2023-08-06T02:54:59.463524Z"
    }
   },
   "outputs": [
    {
     "name": "stdout",
     "output_type": "stream",
     "text": [
      "--2023-08-06 11:54:59--  http://cf.10xgenomics.com/samples/cell-exp/1.1.0/pbmc3k/pbmc3k_filtered_gene_bc_matrices.tar.gz\n",
      "Resolving cf.10xgenomics.com (cf.10xgenomics.com)... 104.18.0.173, 104.18.1.173, 2606:4700::6812:1ad, ...\n",
      "Connecting to cf.10xgenomics.com (cf.10xgenomics.com)|104.18.0.173|:80... connected.\n",
      "HTTP request sent, awaiting response... 301 Moved Permanently\n",
      "Location: https://cf.10xgenomics.com/samples/cell-exp/1.1.0/pbmc3k/pbmc3k_filtered_gene_bc_matrices.tar.gz [following]\n",
      "--2023-08-06 11:55:00--  https://cf.10xgenomics.com/samples/cell-exp/1.1.0/pbmc3k/pbmc3k_filtered_gene_bc_matrices.tar.gz\n",
      "Connecting to cf.10xgenomics.com (cf.10xgenomics.com)|104.18.0.173|:443... connected.\n",
      "HTTP request sent, awaiting response... 200 OK\n",
      "Length: 7621991 (7.3M) [application/x-tar]\n",
      "Saving to: ‘data/pbmc3k_filtered_gene_bc_matrices.tar.gz’\n",
      "\n",
      "data/pbmc3k_filtere 100%[===================>]   7.27M  6.50MB/s    in 1.1s    \n",
      "\n",
      "2023-08-06 11:55:02 (6.50 MB/s) - ‘data/pbmc3k_filtered_gene_bc_matrices.tar.gz’ saved [7621991/7621991]\n",
      "\n"
     ]
    }
   ],
   "source": [
    "!mkdir data\n",
    "!wget http://cf.10xgenomics.com/samples/cell-exp/1.1.0/pbmc3k/pbmc3k_filtered_gene_bc_matrices.tar.gz -O data/pbmc3k_filtered_gene_bc_matrices.tar.gz\n",
    "!cd data && tar -xzf pbmc3k_filtered_gene_bc_matrices.tar.gz && gzip filtered_gene_bc_matrices/hg19/* && mv filtered_gene_bc_matrices/hg19/genes.tsv.gz filtered_gene_bc_matrices/hg19/features.tsv.gz\n",
    "!mkdir output"
   ]
  },
  {
   "cell_type": "code",
   "execution_count": 4,
   "id": "4f1ca636",
   "metadata": {
    "ExecuteTime": {
     "end_time": "2023-08-06T02:55:06.574070Z",
     "start_time": "2023-08-06T02:55:06.555477Z"
    }
   },
   "outputs": [
    {
     "data": {
      "text/html": [
       "<style>.container { width:100% !important; }</style>"
      ],
      "text/plain": [
       "<IPython.core.display.HTML object>"
      ]
     },
     "metadata": {},
     "output_type": "display_data"
    },
    {
     "data": {
      "text/html": [
       "<style>div.cell{width:100%;margin-left:0%;margin-right:auto;}</style>"
      ],
      "text/plain": [
       "<IPython.core.display.HTML object>"
      ]
     },
     "metadata": {},
     "output_type": "display_data"
    }
   ],
   "source": [
    "# not use GPU\n",
    "import os\n",
    "os.environ[\"CUDA_VISIBLE_DEVICES\"] = \"-1\"\n",
    "\n",
    "# import scelephant\n",
    "import scelephant as el\n",
    "from scelephant import RamData\n",
    "\n",
    "\"\"\"\n",
    "configure the jupyter notebook environment\n",
    "\"\"\"\n",
    "el.bk.Wide( 100 ) # adjust the jupyter notebook cell width \n",
    "\n",
    "import matplotlib as mpl\n",
    "mpl.rcParams[ \"figure.dpi\" ] = 100\n",
    "# set image resolution\n",
    "\n",
    "# load memory profiler \n",
    "# %load_ext memory_profiler"
   ]
  },
  {
   "cell_type": "markdown",
   "id": "70182953",
   "metadata": {},
   "source": [
    "**Convert MTX -> RamData**"
   ]
  },
  {
   "cell_type": "code",
   "execution_count": 5,
   "id": "391b65f8",
   "metadata": {
    "ExecuteTime": {
     "end_time": "2023-08-06T02:55:16.186692Z",
     "start_time": "2023-08-06T02:55:06.576136Z"
    }
   },
   "outputs": [],
   "source": [
    "# define working directory\n",
    "path_folder_pipeline = os.getcwd( ) + '/' # retrieve current working directory\n",
    "\n",
    "# create RamData from 10X-formateed MTX\n",
    "el.create_ramdata_from_mtx( \n",
    "    path_folder_mtx_10x_input = f'data/filtered_gene_bc_matrices/hg19/', \n",
    "    path_folder_ramdata_output = f'output/pbmc3k.ram/',\n",
    ")"
   ]
  },
  {
   "cell_type": "markdown",
   "id": "2af28f79",
   "metadata": {},
   "source": [
    "**loading RamData**"
   ]
  },
  {
   "cell_type": "code",
   "execution_count": 6,
   "id": "bdf538de",
   "metadata": {
    "ExecuteTime": {
     "end_time": "2023-08-06T02:55:16.210015Z",
     "start_time": "2023-08-06T02:55:16.189983Z"
    },
    "scrolled": true
   },
   "outputs": [
    {
     "name": "stderr",
     "output_type": "stream",
     "text": [
      "2023-08-06 11:55:16,207 [SC-Elephant] <INFO> (layer) - 'raw' layer has been loaded\n"
     ]
    }
   ],
   "source": [
    "ram = el.RamData( f'output/pbmc3k.ram/' )"
   ]
  },
  {
   "cell_type": "markdown",
   "id": "b5e75621",
   "metadata": {},
   "source": [
    "**view RamData**"
   ]
  },
  {
   "cell_type": "code",
   "execution_count": 7,
   "id": "dffcb154",
   "metadata": {
    "ExecuteTime": {
     "end_time": "2023-08-06T02:55:16.236063Z",
     "start_time": "2023-08-06T02:55:16.212502Z"
    },
    "scrolled": false
   },
   "outputs": [
    {
     "data": {
      "text/html": [
       "\n",
       "    <!DOCTYPE html>\n",
       "    <html>\n",
       "    <head>\n",
       "    <link href=\"https://rawgit.com/summerstyle/jsonTreeViewer/master/libs/jsonTree/jsonTree.css\" rel=\"stylesheet\" />\n",
       "    <script src=\"https://rawgit.com/summerstyle/jsonTreeViewer/master/libs/jsonTree/jsonTree.js\"></script>\n",
       "    <style>\n",
       "    #wrapper_aa063e397e8e4fcd81aec1c29a4a644d li {\n",
       "      list-style:none;\n",
       "    }\n",
       "    </style>\n",
       "    </head>\n",
       "    <body>\n",
       "    <div>\n",
       "    <h2>RamData</h2><div><tt>RamData object (2700 barcodes X 32738 features, 2286884 records in the currently active layer 'raw') stored at /home/merit_an/git/scelephant/doc/jn/tutorials/output/pbmc3k.ram/\n",
       "\twith the following layers : {'raw'}\n",
       "\t\tcurrent layer is 'raw'</tt></div>\n",
       "    <div id=\"wrapper_aa063e397e8e4fcd81aec1c29a4a644d\"></div>\n",
       "    </div>\n",
       "\n",
       "\n",
       "    <script>\n",
       "    // Get DOM-element for inserting json-tree\n",
       "    var wrapper = document.getElementById(\"wrapper_aa063e397e8e4fcd81aec1c29a4a644d\");\n",
       "\n",
       "    // Get json-data by javascript-object\n",
       "    var data = {\"ramdata_3b2cf4ff8b284be4b05fc85f29b621cc\": {\"barcodes\": {\"filter\": false, \"number_of_entries\": 2700, \"number_of_entries_after_applying_filter\": 2700, \"metadata\": {\"columns\": [], \"settings\": {\"path_folder_zdf\": \"/home/merit_an/git/scelephant/doc/jn/tutorials/output/pbmc3k.ram/barcodes.num_and_cat.zdf/\", \"path_folder_mask\": null, \"flag_use_mask_for_caching\": true, \"flag_retrieve_categorical_data_as_integers\": false, \"flag_load_data_after_adding_new_column\": false, \"int_num_bytes_in_a_chunk\": 320000}}}, \"features\": {\"filter\": false, \"number_of_entries\": 32738, \"number_of_entries_after_applying_filter\": 32738, \"metadata\": {\"columns\": [], \"settings\": {\"path_folder_zdf\": \"/home/merit_an/git/scelephant/doc/jn/tutorials/output/pbmc3k.ram/features.num_and_cat.zdf/\", \"path_folder_mask\": null, \"flag_use_mask_for_caching\": true, \"flag_retrieve_categorical_data_as_integers\": false, \"flag_load_data_after_adding_new_column\": false, \"int_num_bytes_in_a_chunk\": 320000}}}, \"currently_active_layer\": {\"name\": \"raw\", \"modes\": [\"dense_for_querying_features\", \"dense\", \"dense_for_querying_barcodes\"], \"total_number_of_records\": 2286884, \"settings\": {\"int_num_cpus_for_fetching_data\": 1}}, \"layers\": [\"raw\"], \"models\": {}, \"settings\": {\"identifier\": \"3b2cf4ff8b284be4b05fc85f29b621cc\", \"has_mask\": false, \"is_component\": false, \"is_combined\": false, \"read_only\": false, \"path_folder_ramdata\": \"/home/merit_an/git/scelephant/doc/jn/tutorials/output/pbmc3k.ram/\", \"path_folder_ramdata_mask\": null, \"verbose\": true, \"debugging\": false, \"int_num_cpus\": 64, \"int_num_cpus_for_fetching_data\": 1, \"int_num_entries_for_each_weight_calculation_batch\": 2000, \"int_total_weight_for_each_batch\": 20000000, \"flag_use_total_number_of_entries_of_axis_not_for_querying_as_weight_for_dense_ramtx\": false}}}\n",
       "\n",
       "    var tree = jsonTree.create(data, wrapper);\n",
       "    </script></body></html>"
      ],
      "text/plain": [
       "<RamData object (2700 barcodes X 32738 features, 2286884 records in the currently active layer 'raw') stored at /home/merit_an/git/scelephant/doc/jn/tutorials/output/pbmc3k.ram/\n",
       "\twith the following layers : {'raw'}\n",
       "\t\tcurrent layer is 'raw'>"
      ]
     },
     "execution_count": 7,
     "metadata": {},
     "output_type": "execute_result"
    }
   ],
   "source": [
    "ram"
   ]
  },
  {
   "cell_type": "markdown",
   "id": "5bffe815",
   "metadata": {},
   "source": [
    "**preprocessing**"
   ]
  },
  {
   "cell_type": "code",
   "execution_count": 8,
   "id": "9a49fb78",
   "metadata": {
    "ExecuteTime": {
     "end_time": "2023-08-06T03:03:57.100840Z",
     "start_time": "2023-08-06T02:55:16.238291Z"
    }
   },
   "outputs": [
    {
     "name": "stderr",
     "output_type": "stream",
     "text": [
      "2023-08-06 11:55:18,685 [SC-Elephant] <INFO> (prepare_dimension_reduction_from_raw) - [SLOW MODE] converting dense to sparse formats ... \n",
      "raw/dense > raw/sparse_for_querying_features: 100%|█████████████████████████████████████████████████████████████████████████████████████████████████████████████████████████████████████████| 2286884.0/2286884 [00:03<00:00, 637731.88it/s]\n",
      "raw/dense > raw/sparse_for_querying_barcodes: 100%|█████████████████████████████████████████████████████████████████████████████████████████████████████████████████████████████████████████| 2286884.0/2286884 [00:04<00:00, 505058.55it/s]\n",
      "2023-08-06 11:55:23,673 [SC-Elephant] <INFO> (layer) - 'raw' layer has been loaded\n",
      "2023-08-06 11:55:23,676 [SC-Elephant] <INFO> (apply) - [RamData.apply] apply operation raw > raw has been completed\n",
      "2023-08-06 11:55:23,677 [SC-Elephant] <INFO> (prepare_dimension_reduction_from_raw) - summarizing total count for each barcode ... \n",
      "raw / barcodes: 100%|███████████████████████████████████████████████████████████████████████████████████████████████████████████████████████████████████████████████████████████████████████| 2286884.0/2286884 [00:22<00:00, 100998.29it/s]\n",
      "2023-08-06 11:55:46,344 [SC-Elephant] <INFO> (summarize) - summarize operation of raw in the 'barcode' axis was completed\n",
      "2023-08-06 11:55:46,345 [SC-Elephant] <INFO> (prepare_dimension_reduction_from_raw) - filtering barcodes ... \n",
      "2023-08-06 11:55:46,579 [SC-Elephant] <INFO> (prepare_dimension_reduction_from_raw) - filtering completed.\n",
      "raw/sparse_for_querying_barcodes > normalized/sparse_for_querying_barcodes: 100%|███████████████████████████████████████████████████████████████████████████████████████████████████████████| 2286884.0/2286884 [00:22<00:00, 101243.91it/s]\n",
      "raw/sparse_for_querying_features > normalized/sparse_for_querying_features: 100%|████████████████████████████████████████████████████████████████████████████████████████████████████████████| 2286884.0/2286884 [02:15<00:00, 16850.55it/s]\n",
      "2023-08-06 11:58:03,063 [SC-Elephant] <INFO> (apply) - [RamData.apply] apply operation raw > normalized has been completed\n",
      "2023-08-06 11:58:03,070 [SC-Elephant] <INFO> (layer) - 'normalized' layer has been loaded\n",
      "normalized/sparse_for_querying_barcodes > normalized_log1p/sparse_for_querying_barcodes: 100%|███████████████████████████████████████████████████████████████████████████████████████████████| 2286884.0/2286884 [00:30<00:00, 75692.03it/s]\n",
      "normalized/sparse_for_querying_features > normalized_log1p/sparse_for_querying_features: 100%|███████████████████████████████████████████████████████████████████████████████████████████████| 2286884.0/2286884 [02:12<00:00, 17278.30it/s]\n",
      "2023-08-06 12:00:16,175 [SC-Elephant] <INFO> (apply) - [RamData.apply] apply operation normalized > normalized_log1p has been completed\n",
      "2023-08-06 12:00:16,181 [SC-Elephant] <INFO> (layer) - 'normalized_log1p' layer has been loaded\n",
      "normalized_log1p/sparse_for_querying_barcodes > normalized_log1p_capped/sparse_for_querying_barcodes: 100%|██████████████████████████████████████████████████████████████████████████████████| 2286884.0/2286884 [00:27<00:00, 82863.53it/s]\n",
      "normalized_log1p/sparse_for_querying_features > normalized_log1p_capped/sparse_for_querying_features: 100%|██████████████████████████████████████████████████████████████████████████████████| 2286884.0/2286884 [01:51<00:00, 20465.40it/s]\n",
      "2023-08-06 12:02:08,710 [SC-Elephant] <INFO> (apply) - [RamData.apply] apply operation normalized_log1p > normalized_log1p_capped has been completed\n",
      "normalized_log1p / features: 100%|███████████████████████████████████████████████████████████████████████████████████████████████████████████████████████████████████████████████████████████| 2286884.0/2286884 [01:45<00:00, 21706.83it/s]\n",
      "2023-08-06 12:03:54,114 [SC-Elephant] <INFO> (summarize) - summarize operation of normalized_log1p in the 'feature' axis was completed\n"
     ]
    },
    {
     "data": {
      "image/png": "[encoded data removed]",
      "text/plain": [
       "<Figure size 640x480 with 1 Axes>"
      ]
     },
     "metadata": {},
     "output_type": "display_data"
    }
   ],
   "source": [
    "# slow analysis\n",
    "ram.int_num_cpus = 8 # number of cores to use\n",
    "# preprocess outputs\n",
    "ram.prepare_dimension_reduction_from_raw( \n",
    "    name_layer_raw = 'raw', \n",
    "    name_layer_capped = 'normalized_log1p_capped',\n",
    "    name_layer_scaled = None, \n",
    "    name_col_filter_filtered_barcode = 'filtered_barcodes', \n",
    "    min_counts = 500, \n",
    "    min_features = 200, \n",
    "    int_total_count_target = 10_000, \n",
    "    int_num_highly_variable_features = 2_000, \n",
    "    name_col_filter_highly_variable = 'filter_normalized_log1p_highly_variable_2000',\n",
    "    max_value = 10, \n",
    "    dict_kw_hv = { 'float_min_mean' : 0.01, 'float_min_variance' : 0.01 }, \n",
    "    flag_use_fast_mode = False, # set this flag to True for fast exploratory analysis without generating intermediate layers\n",
    ")"
   ]
  },
  {
   "cell_type": "markdown",
   "id": "5aa7c2b7",
   "metadata": {},
   "source": [
    "**prepare dimension reduction**"
   ]
  },
  {
   "cell_type": "code",
   "execution_count": 9,
   "id": "8cf516c9",
   "metadata": {
    "ExecuteTime": {
     "end_time": "2023-08-06T03:07:34.828628Z",
     "start_time": "2023-08-06T03:03:57.104758Z"
    }
   },
   "outputs": [
    {
     "name": "stderr",
     "output_type": "stream",
     "text": [
      "2023-08-06 12:04:03,339 [SC-Elephant] <WARNING> (train_pca) - iPCA model 'ipca' does not exist in the RamData models database, initializing the model.\n",
      "30 PCs from 1999 features: 100%|████████████████████████████████████████████████████████████████████████████████████████████████████████████████████████████████████████████████████████████████████████| 1370/1370 [01:59<00:00, 11.51it/s]\n",
      "30 PCs from 1999 features: 100%|█████████████████████████████████████████████████████████████████████████████████████████████████████████████████████████████████████████████████████████████| 2286884.0/2286884 [00:38<00:00, 59261.03it/s]\n",
      "2023-08-06 12:06:54,599 [SC-Elephant] <WARNING> (select_ramtx) - currently queried view is (barcode x features) 2700 x 0. please change the filter or queries in order to retrieve a valid count data. For operations that do not require count data, ignore this warning.\n",
      "2023-08-06 12:07:06.260382: I tensorflow/core/platform/cpu_feature_guard.cc:193] This TensorFlow binary is optimized with oneAPI Deep Neural Network Library (oneDNN) to use the following CPU instructions in performance-critical operations:  AVX2 AVX512F AVX512_VNNI FMA\n",
      "To enable them in other operations, rebuild TensorFlow with the appropriate compiler flags.\n",
      "2023-08-06 12:07:07.214987: I tensorflow/core/util/port.cc:104] oneDNN custom operations are on. You may see slightly different numerical results due to floating-point round-off errors from different computation orders. To turn them off, set the environment variable `TF_ENABLE_ONEDNN_OPTS=0`.\n",
      "2023-08-06 12:07:13.444423: W tensorflow/compiler/xla/stream_executor/platform/default/dso_loader.cc:64] Could not load dynamic library 'libnvinfer.so.7'; dlerror: libnvinfer.so.7: cannot open shared object file: No such file or directory; LD_LIBRARY_PATH: /opt/mpi/gcc-9.3.0/openmpi-4.1.2/lib:/usr/local/cuda-11.6/lib64:\n",
      "2023-08-06 12:07:13.444680: W tensorflow/compiler/xla/stream_executor/platform/default/dso_loader.cc:64] Could not load dynamic library 'libnvinfer_plugin.so.7'; dlerror: libnvinfer_plugin.so.7: cannot open shared object file: No such file or directory; LD_LIBRARY_PATH: /opt/mpi/gcc-9.3.0/openmpi-4.1.2/lib:/usr/local/cuda-11.6/lib64:\n",
      "2023-08-06 12:07:13.444699: W tensorflow/compiler/tf2tensorrt/utils/py_utils.cc:38] TF-TRT Warning: Cannot dlopen some TensorRT libraries. If you would like to use Nvidia GPU with TensorRT, please make sure the missing libraries mentioned above are installed properly.\n"
     ]
    },
    {
     "data": {
      "image/png": "[encoded data removed]",
      "text/plain": [
       "<Figure size 640x480 with 1 Axes>"
      ]
     },
     "metadata": {},
     "output_type": "display_data"
    }
   ],
   "source": [
    "# perform UMAP embedding\n",
    "ram.perform_dimension_reduction_and_clustering(\n",
    "    name_layer_pca = 'normalized_log1p_capped', \n",
    "    name_filter_barcodes = 'filtered_barcodes',\n",
    "    name_filter_features = 'filter_normalized_log1p_highly_variable_2000',\n",
    "    str_embedding_method = 'scanpy-umap'\n",
    ")"
   ]
  },
  {
   "cell_type": "code",
   "execution_count": 10,
   "id": "ccd6d8b0",
   "metadata": {
    "ExecuteTime": {
     "end_time": "2023-08-06T03:07:34.989512Z",
     "start_time": "2023-08-06T03:07:34.841178Z"
    }
   },
   "outputs": [],
   "source": [
    "adata = ram[\n",
    "    'normalized_log1p_capped',\n",
    "    :,\n",
    "    [ 'str', { 'X_umap_scanpy', 'X_pca_scanpy' }, 'leiden_scanpy' ],\n",
    "    [ 'PTPRC', 'CD8A', 'CD4' ],\n",
    "    [ 'str' ]\n",
    "]"
   ]
  },
  {
   "cell_type": "code",
   "execution_count": 11,
   "id": "16dbae70",
   "metadata": {
    "ExecuteTime": {
     "end_time": "2023-08-06T03:07:34.998681Z",
     "start_time": "2023-08-06T03:07:34.992504Z"
    }
   },
   "outputs": [
    {
     "data": {
      "text/plain": [
       "{'X_pca',\n",
       " 'X_umap_scanpy',\n",
       " 'filter_pca',\n",
       " 'filter_pca_subsampled',\n",
       " 'filtered_barcodes',\n",
       " 'leiden_scanpy',\n",
       " 'raw_mean',\n",
       " 'raw_num_nonzero_values',\n",
       " 'raw_sum'}"
      ]
     },
     "execution_count": 11,
     "metadata": {},
     "output_type": "execute_result"
    }
   ],
   "source": [
    "ram.bc.columns"
   ]
  },
  {
   "cell_type": "code",
   "execution_count": null,
   "id": "69e61da2",
   "metadata": {},
   "outputs": [],
   "source": []
  },
  {
   "cell_type": "code",
   "execution_count": null,
   "id": "f76befff",
   "metadata": {},
   "outputs": [],
   "source": []
  },
  {
   "cell_type": "code",
   "execution_count": null,
   "id": "4253fb52",
   "metadata": {},
   "outputs": [],
   "source": []
  },
  {
   "cell_type": "code",
   "execution_count": null,
   "id": "c1946481",
   "metadata": {},
   "outputs": [],
   "source": []
  },
  {
   "cell_type": "code",
   "execution_count": null,
   "id": "fa66ddcb",
   "metadata": {
    "ExecuteTime": {
     "end_time": "2022-08-12T13:43:07.938502Z",
     "start_time": "2022-08-12T13:43:07.932737Z"
    }
   },
   "outputs": [],
   "source": [
    "int_num_barcodes_in_pumap_batch = 22000\n",
    "int_num_barcodes_for_a_batch = 20000\n",
    "float_prop_subsampling_pca = 0.3"
   ]
  },
  {
   "cell_type": "markdown",
   "id": "3c5539d4",
   "metadata": {},
   "source": [
    "**train PCA**"
   ]
  },
  {
   "cell_type": "code",
   "execution_count": null,
   "id": "4b9012f4",
   "metadata": {
    "ExecuteTime": {
     "end_time": "2022-08-12T13:45:15.191047Z",
     "start_time": "2022-08-12T13:43:07.942101Z"
    }
   },
   "outputs": [],
   "source": [
    "ram.train_pca( \n",
    "    name_layer = 'normalized_log1p_scaled', \n",
    "    int_num_components = 30, \n",
    "    int_num_barcodes_in_ipca_batch = int_num_barcodes_for_a_batch, \n",
    "    name_col_filter = 'filter_pca', \n",
    "    float_prop_subsampling = float_prop_subsampling_pca, \n",
    "    name_col_filter_subsampled = 'filter_pca_subsampled', \n",
    "    flag_ipca_whiten = False, \n",
    "    name_model = 'ipca', \n",
    "    int_num_threads = 3, \n",
    "    flag_show_graph = True\n",
    ")"
   ]
  },
  {
   "cell_type": "code",
   "execution_count": null,
   "id": "d7ecb46b",
   "metadata": {
    "ExecuteTime": {
     "end_time": "2022-08-12T13:45:16.700970Z",
     "start_time": "2022-08-12T13:45:15.195169Z"
    }
   },
   "outputs": [],
   "source": [
    "%memit"
   ]
  },
  {
   "cell_type": "markdown",
   "id": "4af1ae92",
   "metadata": {},
   "source": [
    "**apply PCA**"
   ]
  },
  {
   "cell_type": "code",
   "execution_count": null,
   "id": "882a79a2",
   "metadata": {
    "ExecuteTime": {
     "end_time": "2022-08-12T13:45:56.999669Z",
     "start_time": "2022-08-12T13:45:16.707381Z"
    }
   },
   "outputs": [],
   "source": [
    "ram.apply_pca( \n",
    "    name_model = 'ipca', \n",
    "    name_layer = 'normalized_log1p_scaled', \n",
    "    name_col = 'X_pca', \n",
    "    name_col_filter = 'filter_pca', \n",
    "    int_n_components_in_a_chunk = 20, \n",
    "    int_num_threads = 5\n",
    ")"
   ]
  },
  {
   "cell_type": "code",
   "execution_count": null,
   "id": "dbb00ed2",
   "metadata": {
    "ExecuteTime": {
     "end_time": "2022-08-12T13:45:58.401337Z",
     "start_time": "2022-08-12T13:45:57.003712Z"
    }
   },
   "outputs": [],
   "source": [
    "%memit"
   ]
  },
  {
   "cell_type": "markdown",
   "id": "18d9af00",
   "metadata": {},
   "source": [
    "**perform subsampling**"
   ]
  },
  {
   "cell_type": "code",
   "execution_count": null,
   "id": "023b08fb",
   "metadata": {
    "ExecuteTime": {
     "end_time": "2022-08-12T13:45:58.415854Z",
     "start_time": "2022-08-12T13:45:58.406039Z"
    }
   },
   "outputs": [],
   "source": [
    "ram"
   ]
  },
  {
   "cell_type": "code",
   "execution_count": null,
   "id": "5c48c6dd",
   "metadata": {
    "ExecuteTime": {
     "end_time": "2022-08-12T13:51:50.017934Z",
     "start_time": "2022-08-12T13:45:58.419337Z"
    }
   },
   "outputs": [],
   "source": [
    "ram.subsample( \n",
    "    int_num_entries_to_use = int_num_barcodes_for_a_batch, \n",
    "    int_num_entries_to_subsample = int_num_barcodes_in_pumap_batch, \n",
    "    int_num_iterations_for_subsampling = 2, \n",
    "    name_col_data = 'X_pca', \n",
    "    int_num_components_data = 20, \n",
    "    int_num_clus_expected = 20, \n",
    "    name_col_label = 'subsampling_label', \n",
    "    name_col_avg_dist = 'subsampling_avg_dist', \n",
    "    axis = 'barcodes', \n",
    "    name_col_filter = 'filter_pca', \n",
    "    name_col_filter_subsampled = \"filter_subsampled\", \n",
    "    resolution = 0.7, \n",
    "    directed = True, \n",
    "    use_weights = True, \n",
    "    dict_kw_leiden_partition = { 'n_iterations' : -1, 'seed' : 0 }, \n",
    "    n_neighbors = 20, \n",
    "    dict_kw_pynndescent = { 'low_memory' : True, 'n_jobs' : None, 'compressed' : False }, \n",
    "    int_num_threads = 10, \n",
    "    int_num_entries_in_a_batch = int_num_barcodes_for_a_batch\n",
    ")"
   ]
  },
  {
   "cell_type": "code",
   "execution_count": null,
   "id": "20b03685",
   "metadata": {
    "ExecuteTime": {
     "end_time": "2022-08-12T13:51:51.913465Z",
     "start_time": "2022-08-12T13:51:50.024922Z"
    }
   },
   "outputs": [],
   "source": [
    "%memit"
   ]
  },
  {
   "cell_type": "markdown",
   "id": "1e9b6cc2",
   "metadata": {},
   "source": [
    "**1st UMAP training**"
   ]
  },
  {
   "cell_type": "code",
   "execution_count": null,
   "id": "95f77815",
   "metadata": {
    "ExecuteTime": {
     "end_time": "2022-08-12T13:58:06.756557Z",
     "start_time": "2022-08-12T13:51:51.921212Z"
    }
   },
   "outputs": [],
   "source": [
    "ram.bc.change_filter( 'filter_subsampled' )\n",
    "ram.train_umap( \n",
    "    name_col_pca = 'X_pca', \n",
    "    int_num_components_pca = 20, \n",
    "    int_num_components_umap = 2, \n",
    "    name_col_filter = 'filter_subsampled', \n",
    "    name_pumap_model = 'pumap'\n",
    ")"
   ]
  },
  {
   "cell_type": "code",
   "execution_count": null,
   "id": "dde2ef42",
   "metadata": {
    "ExecuteTime": {
     "end_time": "2022-08-12T13:58:09.311895Z",
     "start_time": "2022-08-12T13:58:06.759204Z"
    }
   },
   "outputs": [],
   "source": [
    "%memit"
   ]
  },
  {
   "cell_type": "markdown",
   "id": "b8f96f75",
   "metadata": {},
   "source": [
    "**2nd UMAP training**"
   ]
  },
  {
   "cell_type": "code",
   "execution_count": null,
   "id": "39c31826",
   "metadata": {
    "ExecuteTime": {
     "end_time": "2022-08-12T13:58:09.328863Z",
     "start_time": "2022-08-12T13:58:09.317469Z"
    }
   },
   "outputs": [],
   "source": [
    "ram"
   ]
  },
  {
   "cell_type": "code",
   "execution_count": null,
   "id": "e4cba582",
   "metadata": {
    "ExecuteTime": {
     "end_time": "2022-08-12T14:03:51.867036Z",
     "start_time": "2022-08-12T13:58:09.332322Z"
    }
   },
   "outputs": [],
   "source": [
    "# 2nd training\n",
    "ram.bc.change_filter( 'filtered_barcodes' )\n",
    "ram.bc.filter = ram.bc.subsample( min( 1, int_num_barcodes_in_pumap_batch / ram.bc.filter.count( ) ) )\n",
    "ram.bc.save_filter( 'filter_subsampled_randomly' )\n",
    "ram.train_umap( \n",
    "    name_col_pca = 'X_pca', \n",
    "    int_num_components_pca = 20, \n",
    "    int_num_components_umap = 2, \n",
    "    name_col_filter = 'filter_subsampled_randomly', \n",
    "    name_pumap_model = 'pumap'\n",
    ")"
   ]
  },
  {
   "cell_type": "code",
   "execution_count": null,
   "id": "cd0ee200",
   "metadata": {
    "ExecuteTime": {
     "end_time": "2022-08-12T14:03:54.398329Z",
     "start_time": "2022-08-12T14:03:51.868954Z"
    }
   },
   "outputs": [],
   "source": [
    "%memit"
   ]
  },
  {
   "cell_type": "markdown",
   "id": "c1fc2b84",
   "metadata": {},
   "source": [
    "**Apply trained p-UMAP model**"
   ]
  },
  {
   "cell_type": "code",
   "execution_count": null,
   "id": "b27054f6",
   "metadata": {
    "ExecuteTime": {
     "end_time": "2022-08-12T14:03:57.961449Z",
     "start_time": "2022-08-12T14:03:54.405448Z"
    }
   },
   "outputs": [],
   "source": [
    "# apply umap\n",
    "ram.apply_umap( name_col_pca = 'X_pca', name_col_umap = 'X_umap', int_num_barcodes_in_pumap_batch = int_num_barcodes_for_a_batch, name_col_filter = 'filtered_barcodes', name_pumap_model = 'pumap' )"
   ]
  },
  {
   "cell_type": "code",
   "execution_count": null,
   "id": "6e48de75",
   "metadata": {
    "ExecuteTime": {
     "end_time": "2022-08-12T14:03:59.691804Z",
     "start_time": "2022-08-12T14:03:57.965011Z"
    }
   },
   "outputs": [],
   "source": [
    "%memit"
   ]
  },
  {
   "cell_type": "markdown",
   "id": "9f0eee36",
   "metadata": {},
   "source": [
    "**Convert RamData -> Scanpy AnnData for further detailed analysis**"
   ]
  },
  {
   "cell_type": "code",
   "execution_count": null,
   "id": "c7c0fa7a",
   "metadata": {
    "ExecuteTime": {
     "end_time": "2022-08-12T14:46:52.023839Z",
     "start_time": "2022-08-12T14:46:51.834049Z"
    }
   },
   "outputs": [],
   "source": [
    "# subsample features\n",
    "ram.ft.filter = ram.ft.subsample( 0.01 )"
   ]
  },
  {
   "cell_type": "code",
   "execution_count": null,
   "id": "dbed267b",
   "metadata": {
    "ExecuteTime": {
     "end_time": "2022-08-12T14:46:54.549920Z",
     "start_time": "2022-08-12T14:46:54.539542Z"
    }
   },
   "outputs": [],
   "source": [
    "ram"
   ]
  },
  {
   "cell_type": "code",
   "execution_count": null,
   "id": "67e0a49c",
   "metadata": {
    "ExecuteTime": {
     "end_time": "2022-08-12T14:47:08.975618Z",
     "start_time": "2022-08-12T14:47:01.139057Z"
    }
   },
   "outputs": [],
   "source": [
    "adata = ram[ 'raw', :, [ 'str', 'raw_sum', 'filter_subsampled', 'filter_subsampled_randomly', 'filter_subsampled', { 'X_umap', 'subsampling_label' } ], :, [ 'str', 'raw_normalized_log1p_mean' ] ]\n",
    "adata.obs[ 'name_sample' ] = list( e.split( '|', 1 )[ 0 ] for e in adata.obs.index.values )\n",
    "adata.obs[ 'leiden_scelephant' ] = adata.obsm[ 'subsampling_label' ][ :, 1 ]\n",
    "adata.obs[ 'leiden_scelephant' ] = adata.obs[ 'leiden_scelephant' ].astype( str ).astype( object )"
   ]
  },
  {
   "cell_type": "code",
   "execution_count": null,
   "id": "8a1d7d7a",
   "metadata": {
    "ExecuteTime": {
     "end_time": "2022-08-12T14:47:16.180109Z",
     "start_time": "2022-08-12T14:47:14.260026Z"
    }
   },
   "outputs": [],
   "source": [
    "%memit"
   ]
  },
  {
   "cell_type": "code",
   "execution_count": null,
   "id": "332e9c66",
   "metadata": {
    "ExecuteTime": {
     "end_time": "2022-08-12T14:47:43.363779Z",
     "start_time": "2022-08-12T14:47:43.355364Z"
    }
   },
   "outputs": [],
   "source": [
    "import scanpy as sc"
   ]
  },
  {
   "cell_type": "code",
   "execution_count": null,
   "id": "85da6a4a",
   "metadata": {
    "ExecuteTime": {
     "end_time": "2022-08-12T14:47:45.880135Z",
     "start_time": "2022-08-12T14:47:44.087919Z"
    }
   },
   "outputs": [],
   "source": [
    "sc.pl.umap( adata, color = 'leiden_scelephant' )"
   ]
  },
  {
   "cell_type": "code",
   "execution_count": null,
   "id": "7bd4528a",
   "metadata": {
    "ExecuteTime": {
     "end_time": "2022-08-12T14:47:49.146591Z",
     "start_time": "2022-08-12T14:47:46.831885Z"
    }
   },
   "outputs": [],
   "source": [
    "sc.pl.umap( adata, color = 'name_sample', palette = 'gist_rainbow' )"
   ]
  },
  {
   "cell_type": "code",
   "execution_count": null,
   "id": "f4f8b48b",
   "metadata": {
    "ExecuteTime": {
     "end_time": "2022-08-12T14:51:27.383561Z",
     "start_time": "2022-08-12T14:51:24.950884Z"
    },
    "scrolled": false
   },
   "outputs": [],
   "source": [
    "for e in adata.var.index.values[ : 3 ] :\n",
    "    sc.pl.umap( adata, color = e, cmap = 'Reds', vmax = 5 )"
   ]
  },
  {
   "cell_type": "markdown",
   "id": "fedfd524",
   "metadata": {},
   "source": [
    "# inside 'prepare_dimension_reduction_from_raw'"
   ]
  },
  {
   "cell_type": "code",
   "execution_count": null,
   "id": "90913728",
   "metadata": {
    "ExecuteTime": {
     "end_time": "2022-08-12T06:29:56.892370Z",
     "start_time": "2022-08-12T06:29:56.885126Z"
    }
   },
   "outputs": [],
   "source": [
    "self = ram\n",
    "name_layer_raw = 'raw'\n",
    "name_layer_out = 'normalized_log1p_scaled'\n",
    "min_counts = 500\n",
    "min_features = 100\n",
    "int_total_count_target = 10000\n",
    "int_num_highly_variable_features = 2000\n",
    "max_value = 10\n",
    "dict_kw_hv = { 'float_min_mean' : 0.01, 'float_min_variance' : 0.01, 'name_col_filter' : 'filter_normalized_log1p_highly_variable' } "
   ]
  },
  {
   "cell_type": "markdown",
   "id": "d4f65342",
   "metadata": {},
   "source": [
    "**cell filtering**"
   ]
  },
  {
   "cell_type": "code",
   "execution_count": null,
   "id": "6e1c615d",
   "metadata": {
    "ExecuteTime": {
     "end_time": "2022-08-12T06:33:21.812880Z",
     "start_time": "2022-08-12T06:30:01.484275Z"
    },
    "scrolled": false
   },
   "outputs": [],
   "source": [
    "self.summarize( name_layer_raw, 'barcode', 'sum' )"
   ]
  },
  {
   "cell_type": "code",
   "execution_count": null,
   "id": "dbb7164a",
   "metadata": {
    "ExecuteTime": {
     "end_time": "2022-08-12T06:33:36.850610Z",
     "start_time": "2022-08-12T06:33:36.140719Z"
    }
   },
   "outputs": [],
   "source": [
    "%memit"
   ]
  },
  {
   "cell_type": "code",
   "execution_count": null,
   "id": "b6e71b96",
   "metadata": {
    "ExecuteTime": {
     "end_time": "2022-08-12T06:34:06.834883Z",
     "start_time": "2022-08-12T06:34:06.566759Z"
    }
   },
   "outputs": [],
   "source": [
    "# filter cells\n",
    "self.bc.filter = ( self.bc.all( ) if self.bc.filter is None else self.bc.filter ) & BA.to_bitarray( self.bc.meta[ f'{name_layer_raw}_sum', : ] > min_counts ) & BA.to_bitarray( self.bc.meta[ f'{name_layer_raw}_num_nonzero_values', : ] > min_features )\n",
    "self.bc.save_filter( 'filtered_barcodes' ) # save filter for later analysis\n"
   ]
  },
  {
   "cell_type": "code",
   "execution_count": null,
   "id": "43040b96",
   "metadata": {
    "ExecuteTime": {
     "end_time": "2022-08-12T06:34:08.322733Z",
     "start_time": "2022-08-12T06:34:08.313801Z"
    }
   },
   "outputs": [],
   "source": [
    "ram"
   ]
  },
  {
   "cell_type": "code",
   "execution_count": null,
   "id": "7006d95a",
   "metadata": {
    "ExecuteTime": {
     "end_time": "2022-08-12T03:54:07.176853Z",
     "start_time": "2022-08-12T03:54:06.572416Z"
    }
   },
   "outputs": [],
   "source": [
    "%memit"
   ]
  },
  {
   "cell_type": "markdown",
   "id": "e0ae733f",
   "metadata": {},
   "source": [
    "**surveying feature variance**"
   ]
  },
  {
   "cell_type": "code",
   "execution_count": null,
   "id": "ce7766c2",
   "metadata": {
    "ExecuteTime": {
     "end_time": "2022-08-12T03:57:54.647843Z",
     "start_time": "2022-08-12T03:54:07.180403Z"
    },
    "scrolled": false
   },
   "outputs": [],
   "source": [
    "# retrieve total raw count data for normalization\n",
    "self.bc.meta.load_as_dict( f'{name_layer_raw}_sum' )\n",
    "dict_count = self.bc.meta.dict[ f'{name_layer_raw}_sum' ] # retrieve total counts for each barcode as a dictionary\n",
    "\n",
    "# retrieve the total number of barcodes\n",
    "int_total_num_barcodes = self.bc.meta.n_rows\n",
    "\n",
    "def func( self, int_entry_of_axis_for_querying, arr_int_entries_of_axis_not_for_querying, arr_value ) : # normalize count data of a single feature containing (possibly) multiple barcodes\n",
    "    \"\"\" # 2022-07-06 23:58:38 \n",
    "    \"\"\"\n",
    "    # perform normalization in-place\n",
    "    for i, e in enumerate( arr_int_entries_of_axis_not_for_querying.astype( int ) ) : # iterate through barcodes\n",
    "        arr_value[ i ] = arr_value[ i ] / dict_count[ e ] # perform normalization using the total count data for each barcode\n",
    "    arr_value *= int_total_count_target\n",
    "\n",
    "    # perform log1p transformation \n",
    "    arr_value = np.log10( arr_value + 1 )\n",
    "\n",
    "    # calculate deviation\n",
    "    int_num_records = len( arr_value ) # retrieve the number of records of the current entry\n",
    "    dict_summary = { 'normalized_log1p_sum' : np.sum( arr_value ) if int_num_records > 30 else sum( arr_value ) } # if an input array has more than 30 elements, use np.sum to calculate the sum\n",
    "    dict_summary[ 'normalized_log1p_mean' ] = dict_summary[ 'normalized_log1p_sum' ] / int_total_num_barcodes # calculate the mean\n",
    "    arr_dev = ( arr_value - dict_summary[ 'normalized_log1p_mean' ] ) ** 2 # calculate the deviation\n",
    "    dict_summary[ 'normalized_log1p_deviation' ] = np.sum( arr_dev ) if int_num_records > 30 else sum( arr_dev )\n",
    "    dict_summary[ 'normalized_log1p_variance' ] = dict_summary[ 'normalized_log1p_deviation' ] / ( int_total_num_barcodes - 1 ) if int_total_num_barcodes > 1 else np.nan\n",
    "    return dict_summary    \n",
    "\n",
    "# calculate the metric for identifying highly variable genes\n",
    "self.summarize( name_layer_raw, 'feature', func )\n"
   ]
  },
  {
   "cell_type": "code",
   "execution_count": null,
   "id": "fc422323",
   "metadata": {
    "ExecuteTime": {
     "end_time": "2022-08-12T03:57:55.250130Z",
     "start_time": "2022-08-12T03:57:54.653380Z"
    }
   },
   "outputs": [],
   "source": [
    "%memit"
   ]
  },
  {
   "cell_type": "code",
   "execution_count": null,
   "id": "e39901a6",
   "metadata": {
    "ExecuteTime": {
     "end_time": "2022-08-12T06:34:55.017715Z",
     "start_time": "2022-08-12T06:34:52.795681Z"
    }
   },
   "outputs": [],
   "source": [
    "# identify highly variable genes\n",
    "self.identify_highly_variable_features( name_layer = f'{name_layer_raw}_normalized_log1p', int_num_highly_variable_features = int_num_highly_variable_features, flag_show_graph = True, ** dict_kw_hv )"
   ]
  },
  {
   "cell_type": "code",
   "execution_count": null,
   "id": "26a79e29",
   "metadata": {
    "ExecuteTime": {
     "end_time": "2022-08-12T03:57:57.572783Z",
     "start_time": "2022-08-12T03:57:56.894512Z"
    }
   },
   "outputs": [],
   "source": [
    "%memit"
   ]
  },
  {
   "cell_type": "markdown",
   "id": "2bbb0239",
   "metadata": {},
   "source": [
    "**write normalized, scaled, log-transformed count data**"
   ]
  },
  {
   "cell_type": "code",
   "execution_count": null,
   "id": "0fe8ece1",
   "metadata": {
    "ExecuteTime": {
     "end_time": "2022-08-12T04:00:00.603647Z",
     "start_time": "2022-08-12T03:57:57.581574Z"
    }
   },
   "outputs": [],
   "source": [
    "# retrieve variance\n",
    "self.ft.meta.load_as_dict( f'{name_layer_raw}_normalized_log1p_variance' )\n",
    "dict_var = self.ft.meta.dict[ f'{name_layer_raw}_normalized_log1p_variance' ] # retrieve total counts for each barcode as a dictionary\n",
    "\n",
    "# write log-normalized, scaled data for the selected highly variable features\n",
    "def func( self, int_entry_of_axis_for_querying, arr_int_entries_of_axis_not_for_querying, arr_value ) : \n",
    "    \"\"\" # 2022-07-06 23:58:38 \n",
    "    \"\"\"\n",
    "    # perform normalization \n",
    "    arr_value *= int_total_count_target / dict_count[ int_entry_of_axis_for_querying ] # perform normalization using the total count data for each barcode\n",
    "\n",
    "    # perform log1p transformation \n",
    "    arr_value = np.log10( arr_value + 1 )\n",
    "\n",
    "    # perform scaling in-place\n",
    "    for i, e in enumerate( arr_int_entries_of_axis_not_for_querying.astype( int ) ) : # iterate through features\n",
    "        arr_value[ i ] = arr_value[ i ] / dict_var[ e ] ** 0.5\n",
    "    arr_value[ arr_value > max_value ] = max_value # capping values above 'max_value'\n",
    "\n",
    "    # return results\n",
    "    return int_entry_of_axis_for_querying, arr_int_entries_of_axis_not_for_querying, arr_value\n",
    "self.apply( name_layer_raw, name_layer_out, func, [ [ 'dense', 'sparse_for_querying_barcodes' ] ] )"
   ]
  },
  {
   "cell_type": "code",
   "execution_count": null,
   "id": "74782cfb",
   "metadata": {
    "ExecuteTime": {
     "end_time": "2022-08-12T04:00:01.426710Z",
     "start_time": "2022-08-12T04:00:00.607801Z"
    }
   },
   "outputs": [],
   "source": [
    "%memit"
   ]
  }
 ],
 "metadata": {
  "kernelspec": {
   "display_name": "Python 3 (ipykernel)",
   "language": "python",
   "name": "python3"
  },
  "language_info": {
   "codemirror_mode": {
    "name": "ipython",
    "version": 3
   },
   "file_extension": ".py",
   "mimetype": "text/x-python",
   "name": "python",
   "nbconvert_exporter": "python",
   "pygments_lexer": "ipython3",
   "version": "3.10.9"
  },
  "toc": {
   "base_numbering": 1,
   "nav_menu": {},
   "number_sections": true,
   "sideBar": true,
   "skip_h1_title": false,
   "title_cell": "Table of Contents",
   "title_sidebar": "Contents",
   "toc_cell": false,
   "toc_position": {},
   "toc_section_display": true,
   "toc_window_display": false
  }
 },
 "nbformat": 4,
 "nbformat_minor": 5
}
