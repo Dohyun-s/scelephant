{
 "cells": [
  {
   "cell_type": "code",
   "execution_count": null,
   "id": "7b4c9421",
   "metadata": {},
   "outputs": [],
   "source": []
  },
  {
   "cell_type": "code",
   "execution_count": null,
   "id": "d4761eb1",
   "metadata": {},
   "outputs": [],
   "source": []
  },
  {
   "cell_type": "code",
   "execution_count": null,
   "id": "51efa316",
   "metadata": {},
   "outputs": [],
   "source": []
  },
  {
   "cell_type": "code",
   "execution_count": null,
   "id": "6a023758",
   "metadata": {},
   "outputs": [],
   "source": []
  },
  {
   "cell_type": "code",
   "execution_count": null,
   "id": "9243cd62",
   "metadata": {},
   "outputs": [],
   "source": []
  },
  {
   "cell_type": "code",
   "execution_count": null,
   "id": "265d798c",
   "metadata": {},
   "outputs": [],
   "source": []
  },
  {
   "cell_type": "code",
   "execution_count": null,
   "id": "db9a7025",
   "metadata": {},
   "outputs": [],
   "source": []
  },
  {
   "cell_type": "code",
   "execution_count": null,
   "id": "54ddc8b2",
   "metadata": {},
   "outputs": [],
   "source": []
  },
  {
   "cell_type": "code",
   "execution_count": null,
   "id": "d3132798",
   "metadata": {},
   "outputs": [],
   "source": []
  },
  {
   "cell_type": "code",
   "execution_count": null,
   "id": "4d58aa57",
   "metadata": {},
   "outputs": [],
   "source": []
  },
  {
   "cell_type": "code",
   "execution_count": null,
   "id": "ef6d434d",
   "metadata": {},
   "outputs": [],
   "source": []
  },
  {
   "cell_type": "code",
   "execution_count": null,
   "id": "f23f8dfe",
   "metadata": {},
   "outputs": [],
   "source": []
  },
  {
   "cell_type": "code",
   "execution_count": null,
   "id": "d6025b77",
   "metadata": {},
   "outputs": [],
   "source": []
  },
  {
   "cell_type": "code",
   "execution_count": null,
   "id": "fc527400",
   "metadata": {},
   "outputs": [],
   "source": []
  },
  {
   "cell_type": "code",
   "execution_count": null,
   "id": "0457de15",
   "metadata": {},
   "outputs": [],
   "source": []
  },
  {
   "cell_type": "code",
   "execution_count": null,
   "id": "f376bda9",
   "metadata": {},
   "outputs": [],
   "source": []
  },
  {
   "cell_type": "code",
   "execution_count": null,
   "id": "5af3e611",
   "metadata": {},
   "outputs": [],
   "source": []
  },
  {
   "cell_type": "code",
   "execution_count": null,
   "id": "3fd3d29d",
   "metadata": {},
   "outputs": [],
   "source": []
  },
  {
   "cell_type": "code",
   "execution_count": null,
   "id": "bf4601e6",
   "metadata": {},
   "outputs": [],
   "source": []
  },
  {
   "cell_type": "code",
   "execution_count": null,
   "id": "e496a4bd",
   "metadata": {},
   "outputs": [],
   "source": []
  },
  {
   "cell_type": "code",
   "execution_count": null,
   "id": "946ada54",
   "metadata": {},
   "outputs": [],
   "source": []
  },
  {
   "cell_type": "code",
   "execution_count": null,
   "id": "c88c25ac",
   "metadata": {},
   "outputs": [],
   "source": []
  },
  {
   "cell_type": "code",
   "execution_count": null,
   "id": "9b185110",
   "metadata": {},
   "outputs": [],
   "source": []
  },
  {
   "cell_type": "code",
   "execution_count": null,
   "id": "bbbb1d26",
   "metadata": {},
   "outputs": [],
   "source": []
  },
  {
   "cell_type": "code",
   "execution_count": null,
   "id": "3941d62a",
   "metadata": {},
   "outputs": [],
   "source": []
  },
  {
   "cell_type": "code",
   "execution_count": null,
   "id": "9bad637b",
   "metadata": {},
   "outputs": [],
   "source": []
  },
  {
   "cell_type": "code",
   "execution_count": null,
   "id": "6ceccc3e",
   "metadata": {},
   "outputs": [],
   "source": []
  },
  {
   "cell_type": "code",
   "execution_count": null,
   "id": "7939af6f",
   "metadata": {},
   "outputs": [],
   "source": []
  },
  {
   "cell_type": "code",
   "execution_count": null,
   "id": "084c7f82",
   "metadata": {},
   "outputs": [],
   "source": []
  },
  {
   "cell_type": "code",
   "execution_count": null,
   "id": "b7673802",
   "metadata": {},
   "outputs": [],
   "source": []
  },
  {
   "cell_type": "code",
   "execution_count": null,
   "id": "e4eb6383",
   "metadata": {},
   "outputs": [],
   "source": []
  },
  {
   "cell_type": "code",
   "execution_count": null,
   "id": "fe3dc343",
   "metadata": {},
   "outputs": [],
   "source": []
  },
  {
   "cell_type": "code",
   "execution_count": null,
   "id": "4c63ab1c",
   "metadata": {},
   "outputs": [],
   "source": []
  },
  {
   "cell_type": "code",
   "execution_count": null,
   "id": "42f606a0",
   "metadata": {},
   "outputs": [],
   "source": []
  },
  {
   "cell_type": "code",
   "execution_count": null,
   "id": "65d83eae",
   "metadata": {},
   "outputs": [],
   "source": []
  },
  {
   "cell_type": "code",
   "execution_count": null,
   "id": "ca99c7ce",
   "metadata": {},
   "outputs": [],
   "source": []
  },
  {
   "cell_type": "code",
   "execution_count": null,
   "id": "4a8e3537",
   "metadata": {},
   "outputs": [],
   "source": []
  },
  {
   "cell_type": "code",
   "execution_count": null,
   "id": "6b14f999",
   "metadata": {},
   "outputs": [],
   "source": []
  },
  {
   "cell_type": "code",
   "execution_count": null,
   "id": "5a8fb128",
   "metadata": {},
   "outputs": [],
   "source": []
  },
  {
   "cell_type": "code",
   "execution_count": null,
   "id": "c5a256b2",
   "metadata": {},
   "outputs": [],
   "source": []
  },
  {
   "cell_type": "code",
   "execution_count": null,
   "id": "c1946481",
   "metadata": {},
   "outputs": [],
   "source": []
  },
  {
   "cell_type": "code",
   "execution_count": null,
   "id": "fa66ddcb",
   "metadata": {
    "ExecuteTime": {
     "end_time": "2022-08-12T13:43:07.938502Z",
     "start_time": "2022-08-12T13:43:07.932737Z"
    }
   },
   "outputs": [],
   "source": [
    "int_num_barcodes_in_pumap_batch = 22000\n",
    "int_num_barcodes_for_a_batch = 20000\n",
    "float_prop_subsampling_pca = 0.3"
   ]
  },
  {
   "cell_type": "markdown",
   "id": "3c5539d4",
   "metadata": {},
   "source": [
    "**train PCA**"
   ]
  },
  {
   "cell_type": "code",
   "execution_count": null,
   "id": "4b9012f4",
   "metadata": {
    "ExecuteTime": {
     "end_time": "2022-08-12T13:45:15.191047Z",
     "start_time": "2022-08-12T13:43:07.942101Z"
    }
   },
   "outputs": [],
   "source": [
    "ram.train_pca( \n",
    "    name_layer = 'normalized_log1p_scaled', \n",
    "    int_num_components = 30, \n",
    "    int_num_barcodes_in_ipca_batch = int_num_barcodes_for_a_batch, \n",
    "    name_col_filter = 'filter_pca', \n",
    "    float_prop_subsampling = float_prop_subsampling_pca, \n",
    "    name_col_filter_subsampled = 'filter_pca_subsampled', \n",
    "    flag_ipca_whiten = False, \n",
    "    name_model = 'ipca', \n",
    "    int_num_threads = 3, \n",
    "    flag_show_graph = True\n",
    ")"
   ]
  },
  {
   "cell_type": "code",
   "execution_count": null,
   "id": "d7ecb46b",
   "metadata": {
    "ExecuteTime": {
     "end_time": "2022-08-12T13:45:16.700970Z",
     "start_time": "2022-08-12T13:45:15.195169Z"
    }
   },
   "outputs": [],
   "source": [
    "%memit"
   ]
  },
  {
   "cell_type": "markdown",
   "id": "4af1ae92",
   "metadata": {},
   "source": [
    "**apply PCA**"
   ]
  },
  {
   "cell_type": "code",
   "execution_count": null,
   "id": "882a79a2",
   "metadata": {
    "ExecuteTime": {
     "end_time": "2022-08-12T13:45:56.999669Z",
     "start_time": "2022-08-12T13:45:16.707381Z"
    }
   },
   "outputs": [],
   "source": [
    "ram.apply_pca( \n",
    "    name_model = 'ipca', \n",
    "    name_layer = 'normalized_log1p_scaled', \n",
    "    name_col = 'X_pca', \n",
    "    name_col_filter = 'filter_pca', \n",
    "    int_n_components_in_a_chunk = 20, \n",
    "    int_num_threads = 5\n",
    ")"
   ]
  },
  {
   "cell_type": "code",
   "execution_count": null,
   "id": "dbb00ed2",
   "metadata": {
    "ExecuteTime": {
     "end_time": "2022-08-12T13:45:58.401337Z",
     "start_time": "2022-08-12T13:45:57.003712Z"
    }
   },
   "outputs": [],
   "source": [
    "%memit"
   ]
  },
  {
   "cell_type": "markdown",
   "id": "18d9af00",
   "metadata": {},
   "source": [
    "**perform subsampling**"
   ]
  },
  {
   "cell_type": "code",
   "execution_count": null,
   "id": "023b08fb",
   "metadata": {
    "ExecuteTime": {
     "end_time": "2022-08-12T13:45:58.415854Z",
     "start_time": "2022-08-12T13:45:58.406039Z"
    }
   },
   "outputs": [],
   "source": [
    "ram"
   ]
  },
  {
   "cell_type": "code",
   "execution_count": null,
   "id": "5c48c6dd",
   "metadata": {
    "ExecuteTime": {
     "end_time": "2022-08-12T13:51:50.017934Z",
     "start_time": "2022-08-12T13:45:58.419337Z"
    }
   },
   "outputs": [],
   "source": [
    "ram.subsample( \n",
    "    int_num_entries_to_use = int_num_barcodes_for_a_batch, \n",
    "    int_num_entries_to_subsample = int_num_barcodes_in_pumap_batch, \n",
    "    int_num_iterations_for_subsampling = 2, \n",
    "    name_col_data = 'X_pca', \n",
    "    int_num_components_data = 20, \n",
    "    int_num_clus_expected = 20, \n",
    "    name_col_label = 'subsampling_label', \n",
    "    name_col_avg_dist = 'subsampling_avg_dist', \n",
    "    axis = 'barcodes', \n",
    "    name_col_filter = 'filter_pca', \n",
    "    name_col_filter_subsampled = \"filter_subsampled\", \n",
    "    resolution = 0.7, \n",
    "    directed = True, \n",
    "    use_weights = True, \n",
    "    dict_kw_leiden_partition = { 'n_iterations' : -1, 'seed' : 0 }, \n",
    "    n_neighbors = 20, \n",
    "    dict_kw_pynndescent = { 'low_memory' : True, 'n_jobs' : None, 'compressed' : False }, \n",
    "    int_num_threads = 10, \n",
    "    int_num_entries_in_a_batch = int_num_barcodes_for_a_batch\n",
    ")"
   ]
  },
  {
   "cell_type": "code",
   "execution_count": null,
   "id": "20b03685",
   "metadata": {
    "ExecuteTime": {
     "end_time": "2022-08-12T13:51:51.913465Z",
     "start_time": "2022-08-12T13:51:50.024922Z"
    }
   },
   "outputs": [],
   "source": [
    "%memit"
   ]
  },
  {
   "cell_type": "markdown",
   "id": "1e9b6cc2",
   "metadata": {},
   "source": [
    "**1st UMAP training**"
   ]
  },
  {
   "cell_type": "code",
   "execution_count": null,
   "id": "95f77815",
   "metadata": {
    "ExecuteTime": {
     "end_time": "2022-08-12T13:58:06.756557Z",
     "start_time": "2022-08-12T13:51:51.921212Z"
    }
   },
   "outputs": [],
   "source": [
    "ram.bc.change_filter( 'filter_subsampled' )\n",
    "ram.train_umap( \n",
    "    name_col_pca = 'X_pca', \n",
    "    int_num_components_pca = 20, \n",
    "    int_num_components_umap = 2, \n",
    "    name_col_filter = 'filter_subsampled', \n",
    "    name_pumap_model = 'pumap'\n",
    ")"
   ]
  },
  {
   "cell_type": "code",
   "execution_count": null,
   "id": "dde2ef42",
   "metadata": {
    "ExecuteTime": {
     "end_time": "2022-08-12T13:58:09.311895Z",
     "start_time": "2022-08-12T13:58:06.759204Z"
    }
   },
   "outputs": [],
   "source": [
    "%memit"
   ]
  },
  {
   "cell_type": "markdown",
   "id": "b8f96f75",
   "metadata": {},
   "source": [
    "**2nd UMAP training**"
   ]
  },
  {
   "cell_type": "code",
   "execution_count": null,
   "id": "39c31826",
   "metadata": {
    "ExecuteTime": {
     "end_time": "2022-08-12T13:58:09.328863Z",
     "start_time": "2022-08-12T13:58:09.317469Z"
    }
   },
   "outputs": [],
   "source": [
    "ram"
   ]
  },
  {
   "cell_type": "code",
   "execution_count": null,
   "id": "e4cba582",
   "metadata": {
    "ExecuteTime": {
     "end_time": "2022-08-12T14:03:51.867036Z",
     "start_time": "2022-08-12T13:58:09.332322Z"
    }
   },
   "outputs": [],
   "source": [
    "# 2nd training\n",
    "ram.bc.change_filter( 'filtered_barcodes' )\n",
    "ram.bc.filter = ram.bc.subsample( min( 1, int_num_barcodes_in_pumap_batch / ram.bc.filter.count( ) ) )\n",
    "ram.bc.save_filter( 'filter_subsampled_randomly' )\n",
    "ram.train_umap( \n",
    "    name_col_pca = 'X_pca', \n",
    "    int_num_components_pca = 20, \n",
    "    int_num_components_umap = 2, \n",
    "    name_col_filter = 'filter_subsampled_randomly', \n",
    "    name_pumap_model = 'pumap'\n",
    ")"
   ]
  },
  {
   "cell_type": "code",
   "execution_count": null,
   "id": "cd0ee200",
   "metadata": {
    "ExecuteTime": {
     "end_time": "2022-08-12T14:03:54.398329Z",
     "start_time": "2022-08-12T14:03:51.868954Z"
    }
   },
   "outputs": [],
   "source": [
    "%memit"
   ]
  },
  {
   "cell_type": "markdown",
   "id": "c1fc2b84",
   "metadata": {},
   "source": [
    "**Apply trained p-UMAP model**"
   ]
  },
  {
   "cell_type": "code",
   "execution_count": null,
   "id": "b27054f6",
   "metadata": {
    "ExecuteTime": {
     "end_time": "2022-08-12T14:03:57.961449Z",
     "start_time": "2022-08-12T14:03:54.405448Z"
    }
   },
   "outputs": [],
   "source": [
    "# apply umap\n",
    "ram.apply_umap( name_col_pca = 'X_pca', name_col_umap = 'X_umap', int_num_barcodes_in_pumap_batch = int_num_barcodes_for_a_batch, name_col_filter = 'filtered_barcodes', name_pumap_model = 'pumap' )"
   ]
  },
  {
   "cell_type": "code",
   "execution_count": null,
   "id": "6e48de75",
   "metadata": {
    "ExecuteTime": {
     "end_time": "2022-08-12T14:03:59.691804Z",
     "start_time": "2022-08-12T14:03:57.965011Z"
    }
   },
   "outputs": [],
   "source": [
    "%memit"
   ]
  },
  {
   "cell_type": "markdown",
   "id": "9f0eee36",
   "metadata": {},
   "source": [
    "**Convert RamData -> Scanpy AnnData for further detailed analysis**"
   ]
  },
  {
   "cell_type": "code",
   "execution_count": null,
   "id": "c7c0fa7a",
   "metadata": {
    "ExecuteTime": {
     "end_time": "2022-08-12T14:46:52.023839Z",
     "start_time": "2022-08-12T14:46:51.834049Z"
    }
   },
   "outputs": [],
   "source": [
    "# subsample features\n",
    "ram.ft.filter = ram.ft.subsample( 0.01 )"
   ]
  },
  {
   "cell_type": "code",
   "execution_count": null,
   "id": "dbed267b",
   "metadata": {
    "ExecuteTime": {
     "end_time": "2022-08-12T14:46:54.549920Z",
     "start_time": "2022-08-12T14:46:54.539542Z"
    }
   },
   "outputs": [],
   "source": [
    "ram"
   ]
  },
  {
   "cell_type": "code",
   "execution_count": null,
   "id": "67e0a49c",
   "metadata": {
    "ExecuteTime": {
     "end_time": "2022-08-12T14:47:08.975618Z",
     "start_time": "2022-08-12T14:47:01.139057Z"
    }
   },
   "outputs": [],
   "source": [
    "adata = ram[ 'raw', :, [ 'str', 'raw_sum', 'filter_subsampled', 'filter_subsampled_randomly', 'filter_subsampled', { 'X_umap', 'subsampling_label' } ], :, [ 'str', 'raw_normalized_log1p_mean' ] ]\n",
    "adata.obs[ 'name_sample' ] = list( e.split( '|', 1 )[ 0 ] for e in adata.obs.index.values )\n",
    "adata.obs[ 'leiden_scelephant' ] = adata.obsm[ 'subsampling_label' ][ :, 1 ]\n",
    "adata.obs[ 'leiden_scelephant' ] = adata.obs[ 'leiden_scelephant' ].astype( str ).astype( object )"
   ]
  },
  {
   "cell_type": "code",
   "execution_count": null,
   "id": "8a1d7d7a",
   "metadata": {
    "ExecuteTime": {
     "end_time": "2022-08-12T14:47:16.180109Z",
     "start_time": "2022-08-12T14:47:14.260026Z"
    }
   },
   "outputs": [],
   "source": [
    "%memit"
   ]
  },
  {
   "cell_type": "code",
   "execution_count": null,
   "id": "332e9c66",
   "metadata": {
    "ExecuteTime": {
     "end_time": "2022-08-12T14:47:43.363779Z",
     "start_time": "2022-08-12T14:47:43.355364Z"
    }
   },
   "outputs": [],
   "source": [
    "import scanpy as sc"
   ]
  },
  {
   "cell_type": "code",
   "execution_count": null,
   "id": "85da6a4a",
   "metadata": {
    "ExecuteTime": {
     "end_time": "2022-08-12T14:47:45.880135Z",
     "start_time": "2022-08-12T14:47:44.087919Z"
    }
   },
   "outputs": [],
   "source": [
    "sc.pl.umap( adata, color = 'leiden_scelephant' )"
   ]
  },
  {
   "cell_type": "code",
   "execution_count": null,
   "id": "7bd4528a",
   "metadata": {
    "ExecuteTime": {
     "end_time": "2022-08-12T14:47:49.146591Z",
     "start_time": "2022-08-12T14:47:46.831885Z"
    }
   },
   "outputs": [],
   "source": [
    "sc.pl.umap( adata, color = 'name_sample', palette = 'gist_rainbow' )"
   ]
  },
  {
   "cell_type": "code",
   "execution_count": null,
   "id": "f4f8b48b",
   "metadata": {
    "ExecuteTime": {
     "end_time": "2022-08-12T14:51:27.383561Z",
     "start_time": "2022-08-12T14:51:24.950884Z"
    },
    "scrolled": false
   },
   "outputs": [],
   "source": [
    "for e in adata.var.index.values[ : 3 ] :\n",
    "    sc.pl.umap( adata, color = e, cmap = 'Reds', vmax = 5 )"
   ]
  },
  {
   "cell_type": "markdown",
   "id": "fedfd524",
   "metadata": {},
   "source": [
    "# inside 'prepare_dimension_reduction_from_raw'"
   ]
  },
  {
   "cell_type": "code",
   "execution_count": null,
   "id": "90913728",
   "metadata": {
    "ExecuteTime": {
     "end_time": "2022-08-12T06:29:56.892370Z",
     "start_time": "2022-08-12T06:29:56.885126Z"
    }
   },
   "outputs": [],
   "source": [
    "self = ram\n",
    "name_layer_raw = 'raw'\n",
    "name_layer_out = 'normalized_log1p_scaled'\n",
    "min_counts = 500\n",
    "min_features = 100\n",
    "int_total_count_target = 10000\n",
    "int_num_highly_variable_features = 2000\n",
    "max_value = 10\n",
    "dict_kw_hv = { 'float_min_mean' : 0.01, 'float_min_variance' : 0.01, 'name_col_filter' : 'filter_normalized_log1p_highly_variable' } "
   ]
  },
  {
   "cell_type": "markdown",
   "id": "d4f65342",
   "metadata": {},
   "source": [
    "**cell filtering**"
   ]
  },
  {
   "cell_type": "code",
   "execution_count": null,
   "id": "6e1c615d",
   "metadata": {
    "ExecuteTime": {
     "end_time": "2022-08-12T06:33:21.812880Z",
     "start_time": "2022-08-12T06:30:01.484275Z"
    },
    "scrolled": false
   },
   "outputs": [],
   "source": [
    "self.summarize( name_layer_raw, 'barcode', 'sum' )"
   ]
  },
  {
   "cell_type": "code",
   "execution_count": null,
   "id": "dbb7164a",
   "metadata": {
    "ExecuteTime": {
     "end_time": "2022-08-12T06:33:36.850610Z",
     "start_time": "2022-08-12T06:33:36.140719Z"
    }
   },
   "outputs": [],
   "source": [
    "%memit"
   ]
  },
  {
   "cell_type": "code",
   "execution_count": null,
   "id": "b6e71b96",
   "metadata": {
    "ExecuteTime": {
     "end_time": "2022-08-12T06:34:06.834883Z",
     "start_time": "2022-08-12T06:34:06.566759Z"
    }
   },
   "outputs": [],
   "source": [
    "# filter cells\n",
    "self.bc.filter = ( self.bc.all( ) if self.bc.filter is None else self.bc.filter ) & BA.to_bitarray( self.bc.meta[ f'{name_layer_raw}_sum', : ] > min_counts ) & BA.to_bitarray( self.bc.meta[ f'{name_layer_raw}_num_nonzero_values', : ] > min_features )\n",
    "self.bc.save_filter( 'filtered_barcodes' ) # save filter for later analysis\n"
   ]
  },
  {
   "cell_type": "code",
   "execution_count": null,
   "id": "43040b96",
   "metadata": {
    "ExecuteTime": {
     "end_time": "2022-08-12T06:34:08.322733Z",
     "start_time": "2022-08-12T06:34:08.313801Z"
    }
   },
   "outputs": [],
   "source": [
    "ram"
   ]
  },
  {
   "cell_type": "code",
   "execution_count": null,
   "id": "7006d95a",
   "metadata": {
    "ExecuteTime": {
     "end_time": "2022-08-12T03:54:07.176853Z",
     "start_time": "2022-08-12T03:54:06.572416Z"
    }
   },
   "outputs": [],
   "source": [
    "%memit"
   ]
  },
  {
   "cell_type": "markdown",
   "id": "e0ae733f",
   "metadata": {},
   "source": [
    "**surveying feature variance**"
   ]
  },
  {
   "cell_type": "code",
   "execution_count": null,
   "id": "ce7766c2",
   "metadata": {
    "ExecuteTime": {
     "end_time": "2022-08-12T03:57:54.647843Z",
     "start_time": "2022-08-12T03:54:07.180403Z"
    },
    "scrolled": false
   },
   "outputs": [],
   "source": [
    "# retrieve total raw count data for normalization\n",
    "self.bc.meta.load_as_dict( f'{name_layer_raw}_sum' )\n",
    "dict_count = self.bc.meta.dict[ f'{name_layer_raw}_sum' ] # retrieve total counts for each barcode as a dictionary\n",
    "\n",
    "# retrieve the total number of barcodes\n",
    "int_total_num_barcodes = self.bc.meta.n_rows\n",
    "\n",
    "def func( self, int_entry_of_axis_for_querying, arr_int_entries_of_axis_not_for_querying, arr_value ) : # normalize count data of a single feature containing (possibly) multiple barcodes\n",
    "    \"\"\" # 2022-07-06 23:58:38 \n",
    "    \"\"\"\n",
    "    # perform normalization in-place\n",
    "    for i, e in enumerate( arr_int_entries_of_axis_not_for_querying.astype( int ) ) : # iterate through barcodes\n",
    "        arr_value[ i ] = arr_value[ i ] / dict_count[ e ] # perform normalization using the total count data for each barcode\n",
    "    arr_value *= int_total_count_target\n",
    "\n",
    "    # perform log1p transformation \n",
    "    arr_value = np.log10( arr_value + 1 )\n",
    "\n",
    "    # calculate deviation\n",
    "    int_num_records = len( arr_value ) # retrieve the number of records of the current entry\n",
    "    dict_summary = { 'normalized_log1p_sum' : np.sum( arr_value ) if int_num_records > 30 else sum( arr_value ) } # if an input array has more than 30 elements, use np.sum to calculate the sum\n",
    "    dict_summary[ 'normalized_log1p_mean' ] = dict_summary[ 'normalized_log1p_sum' ] / int_total_num_barcodes # calculate the mean\n",
    "    arr_dev = ( arr_value - dict_summary[ 'normalized_log1p_mean' ] ) ** 2 # calculate the deviation\n",
    "    dict_summary[ 'normalized_log1p_deviation' ] = np.sum( arr_dev ) if int_num_records > 30 else sum( arr_dev )\n",
    "    dict_summary[ 'normalized_log1p_variance' ] = dict_summary[ 'normalized_log1p_deviation' ] / ( int_total_num_barcodes - 1 ) if int_total_num_barcodes > 1 else np.nan\n",
    "    return dict_summary    \n",
    "\n",
    "# calculate the metric for identifying highly variable genes\n",
    "self.summarize( name_layer_raw, 'feature', func )\n"
   ]
  },
  {
   "cell_type": "code",
   "execution_count": null,
   "id": "fc422323",
   "metadata": {
    "ExecuteTime": {
     "end_time": "2022-08-12T03:57:55.250130Z",
     "start_time": "2022-08-12T03:57:54.653380Z"
    }
   },
   "outputs": [],
   "source": [
    "%memit"
   ]
  },
  {
   "cell_type": "code",
   "execution_count": null,
   "id": "e39901a6",
   "metadata": {
    "ExecuteTime": {
     "end_time": "2022-08-12T06:34:55.017715Z",
     "start_time": "2022-08-12T06:34:52.795681Z"
    }
   },
   "outputs": [],
   "source": [
    "# identify highly variable genes\n",
    "self.identify_highly_variable_features( name_layer = f'{name_layer_raw}_normalized_log1p', int_num_highly_variable_features = int_num_highly_variable_features, flag_show_graph = True, ** dict_kw_hv )"
   ]
  },
  {
   "cell_type": "code",
   "execution_count": null,
   "id": "26a79e29",
   "metadata": {
    "ExecuteTime": {
     "end_time": "2022-08-12T03:57:57.572783Z",
     "start_time": "2022-08-12T03:57:56.894512Z"
    }
   },
   "outputs": [],
   "source": [
    "%memit"
   ]
  },
  {
   "cell_type": "markdown",
   "id": "2bbb0239",
   "metadata": {},
   "source": [
    "**write normalized, scaled, log-transformed count data**"
   ]
  },
  {
   "cell_type": "code",
   "execution_count": null,
   "id": "0fe8ece1",
   "metadata": {
    "ExecuteTime": {
     "end_time": "2022-08-12T04:00:00.603647Z",
     "start_time": "2022-08-12T03:57:57.581574Z"
    }
   },
   "outputs": [],
   "source": [
    "# retrieve variance\n",
    "self.ft.meta.load_as_dict( f'{name_layer_raw}_normalized_log1p_variance' )\n",
    "dict_var = self.ft.meta.dict[ f'{name_layer_raw}_normalized_log1p_variance' ] # retrieve total counts for each barcode as a dictionary\n",
    "\n",
    "# write log-normalized, scaled data for the selected highly variable features\n",
    "def func( self, int_entry_of_axis_for_querying, arr_int_entries_of_axis_not_for_querying, arr_value ) : \n",
    "    \"\"\" # 2022-07-06 23:58:38 \n",
    "    \"\"\"\n",
    "    # perform normalization \n",
    "    arr_value *= int_total_count_target / dict_count[ int_entry_of_axis_for_querying ] # perform normalization using the total count data for each barcode\n",
    "\n",
    "    # perform log1p transformation \n",
    "    arr_value = np.log10( arr_value + 1 )\n",
    "\n",
    "    # perform scaling in-place\n",
    "    for i, e in enumerate( arr_int_entries_of_axis_not_for_querying.astype( int ) ) : # iterate through features\n",
    "        arr_value[ i ] = arr_value[ i ] / dict_var[ e ] ** 0.5\n",
    "    arr_value[ arr_value > max_value ] = max_value # capping values above 'max_value'\n",
    "\n",
    "    # return results\n",
    "    return int_entry_of_axis_for_querying, arr_int_entries_of_axis_not_for_querying, arr_value\n",
    "self.apply( name_layer_raw, name_layer_out, func, [ [ 'dense', 'sparse_for_querying_barcodes' ] ] )"
   ]
  },
  {
   "cell_type": "code",
   "execution_count": null,
   "id": "74782cfb",
   "metadata": {
    "ExecuteTime": {
     "end_time": "2022-08-12T04:00:01.426710Z",
     "start_time": "2022-08-12T04:00:00.607801Z"
    }
   },
   "outputs": [],
   "source": [
    "%memit"
   ]
  },
  {
   "cell_type": "code",
   "execution_count": null,
   "id": "9f08d37f",
   "metadata": {},
   "outputs": [],
   "source": []
  },
  {
   "cell_type": "code",
   "execution_count": null,
   "id": "277f2fcb",
   "metadata": {},
   "outputs": [],
   "source": []
  },
  {
   "cell_type": "code",
   "execution_count": null,
   "id": "fe41348b",
   "metadata": {},
   "outputs": [],
   "source": []
  },
  {
   "cell_type": "code",
   "execution_count": null,
   "id": "a98c7bdc",
   "metadata": {},
   "outputs": [],
   "source": []
  },
  {
   "cell_type": "code",
   "execution_count": null,
   "id": "aad925de",
   "metadata": {},
   "outputs": [],
   "source": []
  },
  {
   "cell_type": "code",
   "execution_count": null,
   "id": "be288a1d",
   "metadata": {},
   "outputs": [],
   "source": []
  },
  {
   "cell_type": "code",
   "execution_count": null,
   "id": "b6d333f6",
   "metadata": {},
   "outputs": [],
   "source": []
  },
  {
   "cell_type": "code",
   "execution_count": null,
   "id": "221a6f12",
   "metadata": {},
   "outputs": [],
   "source": []
  },
  {
   "cell_type": "code",
   "execution_count": null,
   "id": "8c015d25",
   "metadata": {},
   "outputs": [],
   "source": []
  },
  {
   "cell_type": "code",
   "execution_count": null,
   "id": "10e2273d",
   "metadata": {},
   "outputs": [],
   "source": []
  },
  {
   "cell_type": "code",
   "execution_count": null,
   "id": "ca00f3d4",
   "metadata": {},
   "outputs": [],
   "source": []
  },
  {
   "cell_type": "code",
   "execution_count": null,
   "id": "9b87ead5",
   "metadata": {},
   "outputs": [],
   "source": []
  },
  {
   "cell_type": "code",
   "execution_count": null,
   "id": "99470c69",
   "metadata": {},
   "outputs": [],
   "source": []
  },
  {
   "cell_type": "code",
   "execution_count": null,
   "id": "c9ae1f96",
   "metadata": {},
   "outputs": [],
   "source": []
  },
  {
   "cell_type": "code",
   "execution_count": null,
   "id": "21ef7575",
   "metadata": {},
   "outputs": [],
   "source": []
  },
  {
   "cell_type": "code",
   "execution_count": null,
   "id": "404eb30f",
   "metadata": {},
   "outputs": [],
   "source": []
  },
  {
   "cell_type": "code",
   "execution_count": null,
   "id": "6dba0b6b",
   "metadata": {},
   "outputs": [],
   "source": []
  },
  {
   "cell_type": "code",
   "execution_count": null,
   "id": "e7d55ea3",
   "metadata": {},
   "outputs": [],
   "source": []
  },
  {
   "cell_type": "code",
   "execution_count": null,
   "id": "67e82857",
   "metadata": {},
   "outputs": [],
   "source": []
  },
  {
   "cell_type": "code",
   "execution_count": null,
   "id": "5f6097f7",
   "metadata": {},
   "outputs": [],
   "source": []
  },
  {
   "cell_type": "code",
   "execution_count": null,
   "id": "6e125b5c",
   "metadata": {},
   "outputs": [],
   "source": []
  },
  {
   "cell_type": "code",
   "execution_count": null,
   "id": "908b6b90",
   "metadata": {},
   "outputs": [],
   "source": []
  },
  {
   "cell_type": "code",
   "execution_count": null,
   "id": "ab167e9e",
   "metadata": {},
   "outputs": [],
   "source": []
  },
  {
   "cell_type": "code",
   "execution_count": null,
   "id": "0bd0c6a2",
   "metadata": {},
   "outputs": [],
   "source": []
  },
  {
   "cell_type": "code",
   "execution_count": null,
   "id": "6fa3e231",
   "metadata": {},
   "outputs": [],
   "source": []
  },
  {
   "cell_type": "code",
   "execution_count": null,
   "id": "93779dbb",
   "metadata": {},
   "outputs": [],
   "source": []
  },
  {
   "cell_type": "code",
   "execution_count": null,
   "id": "cc13b1e2",
   "metadata": {},
   "outputs": [],
   "source": []
  },
  {
   "cell_type": "code",
   "execution_count": null,
   "id": "c209be82",
   "metadata": {},
   "outputs": [],
   "source": []
  },
  {
   "cell_type": "code",
   "execution_count": null,
   "id": "e4164dca",
   "metadata": {},
   "outputs": [],
   "source": []
  },
  {
   "cell_type": "code",
   "execution_count": null,
   "id": "06051abf",
   "metadata": {},
   "outputs": [],
   "source": []
  },
  {
   "cell_type": "code",
   "execution_count": null,
   "id": "5d3db6ff",
   "metadata": {},
   "outputs": [],
   "source": []
  },
  {
   "cell_type": "code",
   "execution_count": null,
   "id": "d7d0b41b",
   "metadata": {},
   "outputs": [],
   "source": []
  },
  {
   "cell_type": "code",
   "execution_count": null,
   "id": "36c451e0",
   "metadata": {},
   "outputs": [],
   "source": []
  },
  {
   "cell_type": "code",
   "execution_count": null,
   "id": "db67b07a",
   "metadata": {},
   "outputs": [],
   "source": []
  },
  {
   "cell_type": "code",
   "execution_count": null,
   "id": "9cd98484",
   "metadata": {},
   "outputs": [],
   "source": []
  },
  {
   "cell_type": "code",
   "execution_count": null,
   "id": "22ae00b4",
   "metadata": {},
   "outputs": [],
   "source": []
  },
  {
   "cell_type": "code",
   "execution_count": null,
   "id": "56dba338",
   "metadata": {},
   "outputs": [],
   "source": []
  },
  {
   "cell_type": "code",
   "execution_count": null,
   "id": "2881c6fd",
   "metadata": {},
   "outputs": [],
   "source": []
  },
  {
   "cell_type": "code",
   "execution_count": null,
   "id": "cb03a383",
   "metadata": {},
   "outputs": [],
   "source": []
  },
  {
   "cell_type": "code",
   "execution_count": null,
   "id": "c917c89a",
   "metadata": {},
   "outputs": [],
   "source": []
  },
  {
   "cell_type": "code",
   "execution_count": null,
   "id": "e87e5a16",
   "metadata": {},
   "outputs": [],
   "source": []
  },
  {
   "cell_type": "code",
   "execution_count": null,
   "id": "11633012",
   "metadata": {},
   "outputs": [],
   "source": []
  },
  {
   "cell_type": "code",
   "execution_count": null,
   "id": "7064b8f1",
   "metadata": {},
   "outputs": [],
   "source": []
  },
  {
   "cell_type": "code",
   "execution_count": null,
   "id": "a40193d5",
   "metadata": {},
   "outputs": [],
   "source": []
  },
  {
   "cell_type": "code",
   "execution_count": null,
   "id": "75257d3b",
   "metadata": {},
   "outputs": [],
   "source": []
  },
  {
   "cell_type": "code",
   "execution_count": null,
   "id": "ef364f3c",
   "metadata": {},
   "outputs": [],
   "source": []
  },
  {
   "cell_type": "code",
   "execution_count": null,
   "id": "9cd31cf3",
   "metadata": {},
   "outputs": [],
   "source": []
  },
  {
   "cell_type": "code",
   "execution_count": null,
   "id": "ab5bc782",
   "metadata": {},
   "outputs": [],
   "source": []
  },
  {
   "cell_type": "code",
   "execution_count": null,
   "id": "b57fa817",
   "metadata": {},
   "outputs": [],
   "source": []
  },
  {
   "cell_type": "code",
   "execution_count": null,
   "id": "84069774",
   "metadata": {},
   "outputs": [],
   "source": []
  },
  {
   "cell_type": "code",
   "execution_count": null,
   "id": "5fd6af03",
   "metadata": {},
   "outputs": [],
   "source": []
  },
  {
   "cell_type": "code",
   "execution_count": null,
   "id": "d6121002",
   "metadata": {},
   "outputs": [],
   "source": []
  },
  {
   "cell_type": "code",
   "execution_count": null,
   "id": "5e432603",
   "metadata": {},
   "outputs": [],
   "source": []
  },
  {
   "cell_type": "code",
   "execution_count": null,
   "id": "ac0b3cf0",
   "metadata": {},
   "outputs": [],
   "source": []
  },
  {
   "cell_type": "code",
   "execution_count": null,
   "id": "97732439",
   "metadata": {},
   "outputs": [],
   "source": []
  },
  {
   "cell_type": "code",
   "execution_count": null,
   "id": "4b31b426",
   "metadata": {},
   "outputs": [],
   "source": []
  },
  {
   "cell_type": "code",
   "execution_count": null,
   "id": "f35c412a",
   "metadata": {},
   "outputs": [],
   "source": []
  },
  {
   "cell_type": "code",
   "execution_count": null,
   "id": "23ede3ad",
   "metadata": {},
   "outputs": [],
   "source": []
  },
  {
   "cell_type": "code",
   "execution_count": null,
   "id": "ca9b7adf",
   "metadata": {},
   "outputs": [],
   "source": []
  },
  {
   "cell_type": "code",
   "execution_count": null,
   "id": "7269b75a",
   "metadata": {},
   "outputs": [],
   "source": []
  },
  {
   "cell_type": "code",
   "execution_count": null,
   "id": "061472ae",
   "metadata": {},
   "outputs": [],
   "source": []
  },
  {
   "cell_type": "code",
   "execution_count": null,
   "id": "4f056778",
   "metadata": {},
   "outputs": [],
   "source": []
  },
  {
   "cell_type": "code",
   "execution_count": null,
   "id": "833bdf57",
   "metadata": {},
   "outputs": [],
   "source": []
  },
  {
   "cell_type": "code",
   "execution_count": null,
   "id": "631fdee8",
   "metadata": {},
   "outputs": [],
   "source": []
  },
  {
   "cell_type": "code",
   "execution_count": null,
   "id": "db9e7644",
   "metadata": {},
   "outputs": [],
   "source": []
  },
  {
   "cell_type": "code",
   "execution_count": null,
   "id": "ccdeaca0",
   "metadata": {},
   "outputs": [],
   "source": []
  },
  {
   "cell_type": "code",
   "execution_count": null,
   "id": "52de00c3",
   "metadata": {},
   "outputs": [],
   "source": []
  },
  {
   "cell_type": "code",
   "execution_count": null,
   "id": "d9251eb4",
   "metadata": {},
   "outputs": [],
   "source": []
  },
  {
   "cell_type": "code",
   "execution_count": null,
   "id": "8c069715",
   "metadata": {},
   "outputs": [],
   "source": []
  }
 ],
 "metadata": {
  "kernelspec": {
   "display_name": "Python 3 (ipykernel)",
   "language": "python",
   "name": "python3"
  },
  "language_info": {
   "codemirror_mode": {
    "name": "ipython",
    "version": 3
   },
   "file_extension": ".py",
   "mimetype": "text/x-python",
   "name": "python",
   "nbconvert_exporter": "python",
   "pygments_lexer": "ipython3",
   "version": "3.10.9"
  },
  "toc": {
   "base_numbering": 1,
   "nav_menu": {},
   "number_sections": true,
   "sideBar": true,
   "skip_h1_title": false,
   "title_cell": "Table of Contents",
   "title_sidebar": "Contents",
   "toc_cell": false,
   "toc_position": {},
   "toc_section_display": true,
   "toc_window_display": false
  }
 },
 "nbformat": 4,
 "nbformat_minor": 5
}
