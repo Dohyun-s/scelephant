{
 "cells": [
  {
   "cell_type": "markdown",
   "id": "741395b5",
   "metadata": {},
   "source": [
    "# Combine 10x MEX count matrices memory-efficiently using SC-Elephant\n",
    "v2023-11-20"
   ]
  },
  {
   "cell_type": "markdown",
   "id": "69e0e894",
   "metadata": {},
   "source": [
    "To view all the HTML components of this Jupyter Notebook, please view **[Tutorial 3) Combine 10x MEX count matrices memory-efficiently using SC-Elephant](https://scelephant-free.s3.amazonaws.com/doc/SC-Elephant_Combine_10x_MEX_Count_Matrices.html)**"
   ]
  },
  {
   "cell_type": "code",
   "execution_count": 1,
   "id": "e71fb188",
   "metadata": {
    "ExecuteTime": {
     "end_time": "2023-11-19T09:33:34.708283Z",
     "start_time": "2023-11-19T09:33:34.564736Z"
    }
   },
   "outputs": [],
   "source": [
    "\"\"\" \n",
    "Reset the tutorial\n",
    "\"\"\"\n",
    "# delete the intermediate output folders to reset the tutorials\n",
    "!rm -rf \"combine_mtx/\""
   ]
  },
  {
   "cell_type": "code",
   "execution_count": 2,
   "id": "8158ddf1",
   "metadata": {
    "ExecuteTime": {
     "end_time": "2023-11-19T09:34:37.471106Z",
     "start_time": "2023-11-19T09:33:34.789392Z"
    }
   },
   "outputs": [
    {
     "name": "stdout",
     "output_type": "stream",
     "text": [
      "--2023-11-19 18:33:35--  https://cf.10xgenomics.com/samples/cell-exp/2.1.0/neurons_900/neurons_900_filtered_gene_bc_matrices.tar.gz\n",
      "Resolving cf.10xgenomics.com (cf.10xgenomics.com)... 104.18.0.173, 104.18.1.173, 2606:4700::6812:ad, ...\n",
      "Connecting to cf.10xgenomics.com (cf.10xgenomics.com)|104.18.0.173|:443... connected.\n",
      "HTTP request sent, awaiting response... 200 OK\n",
      "Length: 8969223 (8.6M) [application/x-tar]\n",
      "Saving to: ‘combine_mtx/data/neurons_cell_900/neurons_cell_900.tar.gz’\n",
      "\n",
      "combine_mtx/data/ne 100%[===================>]   8.55M  2.72MB/s    in 3.1s    \n",
      "\n",
      "2023-11-19 18:33:39 (2.72 MB/s) - ‘combine_mtx/data/neurons_cell_900/neurons_cell_900.tar.gz’ saved [8969223/8969223]\n",
      "\n",
      "--2023-11-19 18:33:39--  https://cf.10xgenomics.com/samples/cell-exp/2.1.0/neurons_2000/neurons_2000_filtered_gene_bc_matrices.tar.gz\n",
      "Resolving cf.10xgenomics.com (cf.10xgenomics.com)... 104.18.1.173, 104.18.0.173, 2606:4700::6812:1ad, ...\n",
      "Connecting to cf.10xgenomics.com (cf.10xgenomics.com)|104.18.1.173|:443... connected.\n",
      "HTTP request sent, awaiting response... 200 OK\n",
      "Length: 16189449 (15M) [application/x-tar]\n",
      "Saving to: ‘combine_mtx/data/neurons_cell_2000/neurons_cell_2000.tar.gz’\n",
      "\n",
      "combine_mtx/data/ne 100%[===================>]  15.44M  10.8MB/s    in 1.4s    \n",
      "\n",
      "2023-11-19 18:33:41 (10.8 MB/s) - ‘combine_mtx/data/neurons_cell_2000/neurons_cell_2000.tar.gz’ saved [16189449/16189449]\n",
      "\n",
      "--2023-11-19 18:33:41--  https://cf.10xgenomics.com/samples/cell-exp/2.1.0/neuron_9k/neuron_9k_filtered_gene_bc_matrices.tar.gz\n",
      "Resolving cf.10xgenomics.com (cf.10xgenomics.com)... 104.18.1.173, 104.18.0.173, 2606:4700::6812:1ad, ...\n",
      "Connecting to cf.10xgenomics.com (cf.10xgenomics.com)|104.18.1.173|:443... connected.\n",
      "HTTP request sent, awaiting response... 200 OK\n",
      "Length: 72358212 (69M) [application/x-tar]\n",
      "Saving to: ‘combine_mtx/data/neuron_cell_9k/neuron_cell_9k.tar.gz’\n",
      "\n",
      "combine_mtx/data/ne 100%[===================>]  69.01M  7.01MB/s    in 22s     \n",
      "\n",
      "2023-11-19 18:34:04 (3.18 MB/s) - ‘combine_mtx/data/neuron_cell_9k/neuron_cell_9k.tar.gz’ saved [72358212/72358212]\n",
      "\n",
      "--2023-11-19 18:34:04--  https://cf.10xgenomics.com/samples/cell-exp/2.1.0/nuclei_2k/nuclei_2k_filtered_gene_bc_matrices.tar.gz\n",
      "Resolving cf.10xgenomics.com (cf.10xgenomics.com)... 104.18.1.173, 104.18.0.173, 2606:4700::6812:1ad, ...\n",
      "Connecting to cf.10xgenomics.com (cf.10xgenomics.com)|104.18.1.173|:443... connected.\n",
      "HTTP request sent, awaiting response... 200 OK\n",
      "Length: 5676940 (5.4M) [application/x-tar]\n",
      "Saving to: ‘combine_mtx/data/neuron_nuclei_2k/neuron_nuclei_2k.tar.gz’\n",
      "\n",
      "combine_mtx/data/ne 100%[===================>]   5.41M  3.38MB/s    in 1.6s    \n",
      "\n",
      "2023-11-19 18:34:07 (3.38 MB/s) - ‘combine_mtx/data/neuron_nuclei_2k/neuron_nuclei_2k.tar.gz’ saved [5676940/5676940]\n",
      "\n",
      "--2023-11-19 18:34:07--  https://cf.10xgenomics.com/samples/cell-exp/2.1.0/nuclei_900/nuclei_900_filtered_gene_bc_matrices.tar.gz\n",
      "Resolving cf.10xgenomics.com (cf.10xgenomics.com)... 104.18.1.173, 104.18.0.173, 2606:4700::6812:1ad, ...\n",
      "Connecting to cf.10xgenomics.com (cf.10xgenomics.com)|104.18.1.173|:443... connected.\n",
      "HTTP request sent, awaiting response... 200 OK\n",
      "Length: 8557322 (8.2M) [application/x-tar]\n",
      "Saving to: ‘combine_mtx/data/neuron_nuclei_900/neuron_nuclei_900.tar.gz’\n",
      "\n",
      "combine_mtx/data/ne 100%[===================>]   8.16M  6.76MB/s    in 1.2s    \n",
      "\n",
      "2023-11-19 18:34:09 (6.76 MB/s) - ‘combine_mtx/data/neuron_nuclei_900/neuron_nuclei_900.tar.gz’ saved [8557322/8557322]\n",
      "\n"
     ]
    }
   ],
   "source": [
    "\"\"\"\n",
    "Download multiple datasets and create output folders\n",
    "\"\"\"\n",
    "!mkdir -p combine_mtx/data/neurons_cell_900\n",
    "!mkdir -p combine_mtx/data/neurons_cell_2000\n",
    "!mkdir -p combine_mtx/data/neuron_cell_9k\n",
    "!mkdir -p combine_mtx/data/neuron_nuclei_2k\n",
    "!mkdir -p combine_mtx/data/neuron_nuclei_900\n",
    "\n",
    "!wget https://cf.10xgenomics.com/samples/cell-exp/2.1.0/neurons_900/neurons_900_filtered_gene_bc_matrices.tar.gz -O combine_mtx/data/neurons_cell_900/neurons_cell_900.tar.gz\n",
    "!wget https://cf.10xgenomics.com/samples/cell-exp/2.1.0/neurons_2000/neurons_2000_filtered_gene_bc_matrices.tar.gz -O combine_mtx/data/neurons_cell_2000/neurons_cell_2000.tar.gz\n",
    "!wget https://cf.10xgenomics.com/samples/cell-exp/2.1.0/neuron_9k/neuron_9k_filtered_gene_bc_matrices.tar.gz -O combine_mtx/data/neuron_cell_9k/neuron_cell_9k.tar.gz\n",
    "!wget https://cf.10xgenomics.com/samples/cell-exp/2.1.0/nuclei_2k/nuclei_2k_filtered_gene_bc_matrices.tar.gz -O combine_mtx/data/neuron_nuclei_2k/neuron_nuclei_2k.tar.gz\n",
    "!wget https://cf.10xgenomics.com/samples/cell-exp/2.1.0/nuclei_900/nuclei_900_filtered_gene_bc_matrices.tar.gz -O combine_mtx/data/neuron_nuclei_900/neuron_nuclei_900.tar.gz\n",
    "\n",
    "!cd combine_mtx/data/neurons_cell_900/ && tar -xzf neurons_cell_900.tar.gz && cd filtered_gene_bc_matrices/mm10/ && gzip * && mv genes.tsv.gz features.tsv.gz\n",
    "!cd combine_mtx/data/neurons_cell_2000/ && tar -xzf neurons_cell_2000.tar.gz && cd filtered_gene_bc_matrices/mm10/ && gzip * && mv genes.tsv.gz features.tsv.gz\n",
    "!cd combine_mtx/data/neuron_cell_9k/ && tar -xzf neuron_cell_9k.tar.gz && cd filtered_gene_bc_matrices/mm10/ && gzip * && mv genes.tsv.gz features.tsv.gz\n",
    "!cd combine_mtx/data/neuron_nuclei_2k/ && tar -xzf neuron_nuclei_2k.tar.gz && cd filtered_gene_bc_matrices/mm10/ && gzip * && mv genes.tsv.gz features.tsv.gz\n",
    "!cd combine_mtx/data/neuron_nuclei_900/ && tar -xzf neuron_nuclei_900.tar.gz && cd filtered_gene_bc_matrices/mm10/ && gzip * && mv genes.tsv.gz features.tsv.gz\n",
    "\n",
    "!mkdir -p combine_mtx/output"
   ]
  },
  {
   "cell_type": "code",
   "execution_count": 3,
   "id": "4f1ca636",
   "metadata": {
    "ExecuteTime": {
     "end_time": "2023-11-19T09:34:42.952716Z",
     "start_time": "2023-11-19T09:34:37.474999Z"
    }
   },
   "outputs": [
    {
     "data": {
      "text/html": [
       "<style>.container { width:100% !important; }</style>"
      ],
      "text/plain": [
       "<IPython.core.display.HTML object>"
      ]
     },
     "metadata": {},
     "output_type": "display_data"
    },
    {
     "data": {
      "text/html": [
       "<style>div.cell{width:100%;margin-left:0%;margin-right:auto;}</style>"
      ],
      "text/plain": [
       "<IPython.core.display.HTML object>"
      ]
     },
     "metadata": {},
     "output_type": "display_data"
    }
   ],
   "source": [
    "\"\"\"\n",
    "Import necessary packages\n",
    "\"\"\"\n",
    "# not use GPU (only inference will be performed, and using CPUs are sufficient)\n",
    "import os\n",
    "os.environ[\"CUDA_VISIBLE_DEVICES\"] = \"-1\"\n",
    "\n",
    "# import scelephant\n",
    "import scelephant as el\n",
    "from scelephant import RamData\n",
    "import scanpy as sc\n",
    "# set figure parameters\n",
    "sc.set_figure_params( dpi = 200, figsize = ( 6, 5 ), frameon = True )\n",
    "\n",
    "# plotly export settings\n",
    "import plotly.io as pio\n",
    "pio.renderers.default = \"notebook\"\n",
    "\n",
    "\"\"\"\n",
    "configure the jupyter notebook environment\n",
    "\"\"\"\n",
    "el.bk.Wide( 100 ) # adjust the jupyter notebook cell width \n",
    "\n",
    "import matplotlib as mpl\n",
    "mpl.rcParams[ \"figure.dpi\" ] = 100\n",
    "# set image resolution\n",
    "\n",
    "# load memory profiler \n",
    "# %load_ext memory_profiler"
   ]
  },
  {
   "cell_type": "markdown",
   "id": "813f1b13",
   "metadata": {},
   "source": [
    "## **Combine 10x MEX Matrices into a single matrix**"
   ]
  },
  {
   "cell_type": "code",
   "execution_count": 4,
   "id": "96470dbe",
   "metadata": {
    "ExecuteTime": {
     "end_time": "2023-11-19T09:38:18.179746Z",
     "start_time": "2023-11-19T09:34:42.955134Z"
    }
   },
   "outputs": [],
   "source": [
    "''' define inputs and output '''\n",
    "l_path_folder_mtx_input = [\n",
    "    'combine_mtx/data/neurons_cell_900/filtered_gene_bc_matrices/mm10/',\n",
    "    'combine_mtx/data/neurons_cell_2000/filtered_gene_bc_matrices/mm10/',\n",
    "    'combine_mtx/data/neuron_cell_9k/filtered_gene_bc_matrices/mm10/',\n",
    "    'combine_mtx/data/neuron_nuclei_2k/filtered_gene_bc_matrices/mm10/',\n",
    "    'combine_mtx/data/neuron_nuclei_900/filtered_gene_bc_matrices/mm10/',\n",
    "]\n",
    "path_folder_mtx_output = 'combine_mtx/data/combined_mtx/'\n",
    "\n",
    "''' add prefix to the barcodes to make barcodes are unique across the datasets '''\n",
    "for name_dataset, path_folder_mtx in el.bk.GLOB_Retrive_Strings_in_Wildcards( 'combine_mtx/data/*/filtered_gene_bc_matrices/mm10/' ).values :\n",
    "    el.MTX_10X_Barcode_add_prefix_or_suffix( f\"{path_folder_mtx}barcodes.tsv.gz\", barcode_prefix = f\"{name_dataset}-\" ) \n",
    "\n",
    "''' combine matrices '''\n",
    "el.MTX_10X_Combine(\n",
    "    path_folder_mtx_output,\n",
    "    * l_path_folder_mtx_input,\n",
    "    flag_low_memory_mode_because_there_is_no_shared_cell_between_mtxs = True, # since no cells are shared across the datasets (and barcodes are unique across the datasets), it is safe to turn on this option\n",
    ")"
   ]
  },
  {
   "cell_type": "markdown",
   "id": "70182953",
   "metadata": {},
   "source": [
    "## **Convert 10x MEX format (Matrix Market format) to RamData**"
   ]
  },
  {
   "cell_type": "code",
   "execution_count": 5,
   "id": "49a9562a",
   "metadata": {
    "ExecuteTime": {
     "end_time": "2023-11-19T09:38:18.339424Z",
     "start_time": "2023-11-19T09:38:18.184466Z"
    }
   },
   "outputs": [],
   "source": [
    "!rm -rf 'combine_mtx/output/mouse_brain_5_datasets_combined.ram/'"
   ]
  },
  {
   "cell_type": "code",
   "execution_count": 6,
   "id": "391b65f8",
   "metadata": {
    "ExecuteTime": {
     "end_time": "2023-11-19T09:39:04.378520Z",
     "start_time": "2023-11-19T09:38:18.343024Z"
    }
   },
   "outputs": [],
   "source": [
    "# initialize a pool of managed operators\n",
    "fop = el.managers.FileSystemOperatorPool( 8 ) # this pool of managed operators will be used throughout the tutorials\n",
    "\n",
    "# create RamData from 10X-formateed MTX\n",
    "el.create_ramdata_from_mtx( \n",
    "    path_folder_mtx_10x_input = f'combine_mtx/data/combined_mtx/', \n",
    "    path_folder_ramdata_output = f'combine_mtx/output/mouse_brain_5_datasets_combined.ram/',\n",
    "    file_system_operator_pool = fop,\n",
    ")"
   ]
  },
  {
   "cell_type": "markdown",
   "id": "2af28f79",
   "metadata": {},
   "source": [
    "## **Loading RamData**"
   ]
  },
  {
   "cell_type": "code",
   "execution_count": 7,
   "id": "bdf538de",
   "metadata": {
    "ExecuteTime": {
     "end_time": "2023-11-19T09:39:04.555466Z",
     "start_time": "2023-11-19T09:39:04.384149Z"
    }
   },
   "outputs": [
    {
     "name": "stderr",
     "output_type": "stream",
     "text": [
      "2023-11-19 18:39:04,551 [SC-Elephant] <INFO> (layer) - 'raw' layer has been loaded\n"
     ]
    }
   ],
   "source": [
    "ram = RamData( \n",
    "    f'combine_mtx/output/mouse_brain_5_datasets_combined.ram/', \n",
    "    int_total_weight_for_each_batch = 350_000, # increase the batch size for better performance\n",
    "    int_num_cpus = 8,\n",
    "    file_system_operator_pool = fop,\n",
    "    flag_enable_synchronization_through_locking = False, # You can set it to False for better performance, but when this RamData object is being modified by other researchers, setting to True is highly recommended to avoid collisions\n",
    ")"
   ]
  },
  {
   "cell_type": "markdown",
   "id": "0cb4679a",
   "metadata": {},
   "source": [
    "## Add batch information"
   ]
  },
  {
   "cell_type": "code",
   "execution_count": 8,
   "id": "038a2c4e",
   "metadata": {
    "ExecuteTime": {
     "end_time": "2023-11-19T09:39:04.785749Z",
     "start_time": "2023-11-19T09:39:04.558188Z"
    }
   },
   "outputs": [
    {
     "name": "stderr",
     "output_type": "stream",
     "text": [
      "2023-11-19 18:39:04,717 [SC-Elephant] <INFO> (load_str) - completed loading of 15387 number of strings\n"
     ]
    }
   ],
   "source": [
    "ram.bc.filter = None\n",
    "arr_str_bc = ram.bc.load_str( ) # load string representations of all barcodes\n",
    "ram.bc.meta[ 'name_dataset' ] = list( e.split( '-', 1 )[ 0 ] for e in arr_str_bc )"
   ]
  },
  {
   "cell_type": "markdown",
   "id": "b5e75621",
   "metadata": {},
   "source": [
    "## **View RamData**\n",
    "- JavaScript-based interactive visualization of RamData object in Jupyter Notebook"
   ]
  },
  {
   "cell_type": "code",
   "execution_count": 9,
   "id": "0582fd6d",
   "metadata": {
    "ExecuteTime": {
     "end_time": "2023-11-19T09:39:04.799475Z",
     "start_time": "2023-11-19T09:39:04.790127Z"
    },
    "scrolled": false
   },
   "outputs": [
    {
     "data": {
      "text/html": [
       "\n",
       "    <!DOCTYPE html>\n",
       "    <html>\n",
       "    <head>\n",
       "    <link href=\"https://rawgit.com/summerstyle/jsonTreeViewer/master/libs/jsonTree/jsonTree.css\" rel=\"stylesheet\" />\n",
       "    <script src=\"https://rawgit.com/summerstyle/jsonTreeViewer/master/libs/jsonTree/jsonTree.js\"></script>\n",
       "    <style>\n",
       "    #wrapper_a1b2495cfe384faa929e8fa99ccebc99 li {\n",
       "      list-style:none;\n",
       "    }\n",
       "    </style>\n",
       "    </head>\n",
       "    <body>\n",
       "    <div>\n",
       "    <h2>RamData</h2><div><tt>RamData object (15387 barcodes X 27998 features, 36303417 records in the currently active layer 'raw') stored at /home/merit_an/git/scelephant/doc/jn/tutorials/combine_mtx/output/mouse_brain_5_datasets_combined.ram/\n",
       "\twith the following layers : {'raw'}\n",
       "\t\tcurrent layer is 'raw'</tt></div>\n",
       "    <div id=\"wrapper_a1b2495cfe384faa929e8fa99ccebc99\"></div>\n",
       "    </div>\n",
       "\n",
       "\n",
       "    <script>\n",
       "    // Get DOM-element for inserting json-tree\n",
       "    var wrapper = document.getElementById(\"wrapper_a1b2495cfe384faa929e8fa99ccebc99\");\n",
       "\n",
       "    // Get json-data by javascript-object\n",
       "    var data = {\"ramdata_19a01441447c4e3e93b7399168501465\": {\"barcodes\": {\"filter\": false, \"number_of_entries\": 15387, \"number_of_entries_after_applying_filter\": 15387, \"metadata\": {\"columns\": [\"name_dataset\"], \"settings\": {\"path_folder_zdf\": \"/home/merit_an/git/scelephant/doc/jn/tutorials/combine_mtx/output/mouse_brain_5_datasets_combined.ram/barcodes.num_and_cat.zdf/\", \"path_folder_mask\": null, \"flag_use_mask_for_caching\": true, \"flag_retrieve_categorical_data_as_integers\": false, \"flag_load_data_after_adding_new_column\": false, \"int_num_bytes_in_a_chunk\": 320000}}}, \"features\": {\"filter\": false, \"number_of_entries\": 27998, \"number_of_entries_after_applying_filter\": 27998, \"metadata\": {\"columns\": [], \"settings\": {\"path_folder_zdf\": \"/home/merit_an/git/scelephant/doc/jn/tutorials/combine_mtx/output/mouse_brain_5_datasets_combined.ram/features.num_and_cat.zdf/\", \"path_folder_mask\": null, \"flag_use_mask_for_caching\": true, \"flag_retrieve_categorical_data_as_integers\": false, \"flag_load_data_after_adding_new_column\": false, \"int_num_bytes_in_a_chunk\": 320000}}}, \"currently_active_layer\": {\"name\": \"raw\", \"modes\": [\"dense\", \"dense_for_querying_barcodes\", \"dense_for_querying_features\"], \"total_number_of_records\": 36303417, \"settings\": {\"int_num_cpus_for_fetching_data\": 1}}, \"layers\": [\"raw\"], \"models\": {}, \"settings\": {\"identifier\": \"19a01441447c4e3e93b7399168501465\", \"has_mask\": false, \"is_component\": false, \"is_combined\": false, \"read_only\": false, \"path_folder_ramdata\": \"/home/merit_an/git/scelephant/doc/jn/tutorials/combine_mtx/output/mouse_brain_5_datasets_combined.ram/\", \"path_folder_ramdata_mask\": null, \"verbose\": true, \"debugging\": false, \"int_num_cpus\": 8, \"int_num_cpus_for_fetching_data\": 1, \"int_num_entries_for_each_weight_calculation_batch\": 2000, \"int_total_weight_for_each_batch\": 350000, \"flag_use_total_number_of_entries_of_axis_not_for_querying_as_weight_for_dense_ramtx\": false}}}\n",
       "\n",
       "    var tree = jsonTree.create(data, wrapper);\n",
       "    </script></body></html>"
      ],
      "text/plain": [
       "<RamData object (15387 barcodes X 27998 features, 36303417 records in the currently active layer 'raw') stored at /home/merit_an/git/scelephant/doc/jn/tutorials/combine_mtx/output/mouse_brain_5_datasets_combined.ram/\n",
       "\twith the following layers : {'raw'}\n",
       "\t\tcurrent layer is 'raw'>"
      ]
     },
     "execution_count": 9,
     "metadata": {},
     "output_type": "execute_result"
    }
   ],
   "source": [
    "ram"
   ]
  }
 ],
 "metadata": {
  "kernelspec": {
   "display_name": "Python 3 (ipykernel)",
   "language": "python",
   "name": "python3"
  },
  "language_info": {
   "codemirror_mode": {
    "name": "ipython",
    "version": 3
   },
   "file_extension": ".py",
   "mimetype": "text/x-python",
   "name": "python",
   "nbconvert_exporter": "python",
   "pygments_lexer": "ipython3",
   "version": "3.10.9"
  },
  "toc": {
   "base_numbering": 1,
   "nav_menu": {},
   "number_sections": true,
   "sideBar": true,
   "skip_h1_title": false,
   "title_cell": "Table of Contents",
   "title_sidebar": "Contents",
   "toc_cell": false,
   "toc_position": {},
   "toc_section_display": true,
   "toc_window_display": false
  }
 },
 "nbformat": 4,
 "nbformat_minor": 5
}
