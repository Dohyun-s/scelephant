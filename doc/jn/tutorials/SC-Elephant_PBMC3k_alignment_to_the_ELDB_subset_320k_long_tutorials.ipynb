{
 "cells": [
  {
   "cell_type": "markdown",
   "id": "7561f38d",
   "metadata": {},
   "source": [
    "# Alignment of 3k PBMCs against ELDB.v20221214 - AWS\n",
    "v2023-11-15"
   ]
  },
  {
   "cell_type": "code",
   "execution_count": 6,
   "id": "5ea8198c",
   "metadata": {
    "ExecuteTime": {
     "end_time": "2023-11-17T15:20:42.890390Z",
     "start_time": "2023-11-17T15:20:42.732156Z"
    },
    "deletable": false,
    "editable": false
   },
   "outputs": [],
   "source": [
    "# delete the output to reset the tutorials\n",
    "!rm -rf output/pbmc3k.combined_with_eldb.v20221214.aws.subset_320000.long_tutorial.ram/"
   ]
  },
  {
   "cell_type": "code",
   "execution_count": 2,
   "id": "ee698f82",
   "metadata": {
    "ExecuteTime": {
     "end_time": "2023-11-17T15:20:07.996057Z",
     "start_time": "2023-11-17T15:20:04.857143Z"
    },
    "deletable": false,
    "editable": false
   },
   "outputs": [
    {
     "data": {
      "text/html": [
       "<style>.container { width:100% !important; }</style>"
      ],
      "text/plain": [
       "<IPython.core.display.HTML object>"
      ]
     },
     "metadata": {},
     "output_type": "display_data"
    },
    {
     "data": {
      "text/html": [
       "<style>div.cell{width:100%;margin-left:0%;margin-right:auto;}</style>"
      ],
      "text/plain": [
       "<IPython.core.display.HTML object>"
      ]
     },
     "metadata": {},
     "output_type": "display_data"
    }
   ],
   "source": [
    "# not use GPU\n",
    "import os\n",
    "os.environ[\"CUDA_VISIBLE_DEVICES\"] = \"-1\"\n",
    "\n",
    "# import scelephant\n",
    "import scelephant as el\n",
    "from scelephant import RamData\n",
    "import scanpy as sc\n",
    "# set figure parameters\n",
    "sc.set_figure_params( dpi = 200, figsize = ( 8, 8 ), frameon = False )\n",
    "\n",
    "# plotly export settings\n",
    "import plotly.io as pio\n",
    "pio.renderers.default = \"notebook\"\n",
    "\n",
    "\"\"\"\n",
    "configure the jupyter notebook environment\n",
    "\"\"\"\n",
    "el.bk.Wide( 100 ) # adjust the jupyter notebook cell width \n",
    "\n",
    "import matplotlib as mpl\n",
    "mpl.rcParams[ \"figure.dpi\" ] = 100\n",
    "# set image resolution\n",
    "\n",
    "# load memory profiler \n",
    "# %load_ext memory_profiler"
   ]
  },
  {
   "cell_type": "code",
   "execution_count": 7,
   "id": "ddad7b51",
   "metadata": {
    "ExecuteTime": {
     "end_time": "2023-11-17T15:20:58.559879Z",
     "start_time": "2023-11-17T15:20:45.622048Z"
    }
   },
   "outputs": [
    {
     "name": "stderr",
     "output_type": "stream",
     "text": [
      "2023-11-18 00:20:48,170 [SC-Elephant] <INFO> (layer) - 'raw' layer has been loaded\n"
     ]
    }
   ],
   "source": [
    "# initialize a pool of managed operators\n",
    "fop = el.managers.FileSystemOperatorPool( 8 ) # this pool of managed operators will be used throughout the tutorials\n",
    "\n",
    "ram_ref = RamData( 's3://scelephant-free/ELDB.combined_v20221214.subset_320000_barcodes.ramdata/', file_system_operator_pool = fop, name_layer = None ) # contain full ELDB data, but it is requester-pay bucket, and it is not FREE\n",
    "# ram_ref = RamData( '/home/project/Single_Cell_Full_Length_Atlas/data/pipeline/20211116_ouroboros_short_read_public_data_mining/public_data/no_scarab/ELDB.combined_v20221214.subset_320000_barcodes.ramdata/', file_system_operator_pool = fop, name_layer = None ) # contain full ELDB data, but it is requester-pay bucket, and it is not FREE\n",
    "# ram_ref = RamData( 's3://scelephant/ELDB.combined_v20221214.ramdata/', file_system_operator_pool = fop, name_layer = None ) # contain full ELDB data, but it is requester-pay bucket, and it is not FREE\n",
    "ram_query = RamData( f'output/pbmc3k.ram/', file_system_operator_pool = fop )\n",
    "\n",
    "# build feature mapping using 'id_gene', not 'name_gene'\n",
    "ram_ref.ft.int_index_str_rep = 0\n",
    "ram_query.ft.int_index_str_rep = 0\n",
    "\n",
    "ram = RamData(\n",
    "    \"output/pbmc3k.combined_with_eldb.v20221214.aws.subset_320000.long_tutorial.ram/\",\n",
    "    l_ramdata = [ ram_ref, ram_query ],\n",
    "    name_layer = None,\n",
    "    int_total_weight_for_each_batch = 10_000_000,\n",
    "    int_index_component_reference = 0,\n",
    "    file_system_operator_pool = fop,\n",
    ")"
   ]
  },
  {
   "cell_type": "code",
   "execution_count": 8,
   "id": "e07b69a4",
   "metadata": {
    "ExecuteTime": {
     "end_time": "2023-11-17T15:20:58.569023Z",
     "start_time": "2023-11-17T15:20:58.563946Z"
    }
   },
   "outputs": [],
   "source": [
    "# settings of the pipeline\n",
    "l_anno_ori = [ 'leiden_scanpy' ]\n",
    "flag_copy_pca_values = False # copy pca values of the reference database"
   ]
  },
  {
   "cell_type": "code",
   "execution_count": 9,
   "id": "73b812a9",
   "metadata": {
    "ExecuteTime": {
     "end_time": "2023-11-17T15:22:45.256534Z",
     "start_time": "2023-11-17T15:20:58.572843Z"
    }
   },
   "outputs": [
    {
     "name": "stderr",
     "output_type": "stream",
     "text": [
      "2023-11-18 00:21:43,413 [aiobotocore.credentials] <INFO> (load) - Found credentials in shared credentials file: ~/.aws/credentials\n",
      "2023-11-18 00:22:01,266 [SC-Elephant] <INFO> (layer) - loading a layer 'normalized_log1p_capped' of RamData component 0\n",
      "2023-11-18 00:22:13,680 [SC-Elephant] <INFO> (layer) - 'normalized_log1p_capped' layer has been loaded\n",
      "2023-11-18 00:22:13,682 [SC-Elephant] <INFO> (layer) - loading a layer 'normalized_log1p_capped' of RamData component 1\n",
      "2023-11-18 00:22:13,713 [SC-Elephant] <INFO> (layer) - 'normalized_log1p_capped' layer has been loaded\n",
      "2023-11-18 00:22:14,336 [SC-Elephant] <INFO> (layer) - 'normalized_log1p_capped' layer has been loaded\n",
      "100 PCs from 10504 features: 100%|███████████████████████████████████████████████████████████████████████████████████████████████████████████████████████████████████████████████████████████████████████████████████████████████████████████████████████████████████████████████████████████████████████████████████████████████████████████████████████████████████████████████████| 169867800/169867800 [00:08<00:00, 19267382.09it/s]\n"
     ]
    }
   ],
   "source": [
    "\"\"\"\n",
    "Get PCA values of the new barcodes\n",
    "\"\"\"\n",
    "name_col_bc_all = 'filtered_barcodes'\n",
    "\n",
    "name_col_filter_ft = \"filter_pca_filter_normalized_log1p_for_embedding_10504_features_normalized_log1p_capped_100comp\"\n",
    "ram.ft.change_filter( name_col_filter_ft )\n",
    "\n",
    "# create umap from scelephant-DB (Hs) using genes from which DEGs between data sources are removed\n",
    "int_num_barcodes_in_pumap_batch = 10000000\n",
    "int_num_barcodes_for_a_batch = 250000\n",
    "float_prop_subsampling_pca = 1\n",
    "\n",
    "# set the suffix of the run\n",
    "name_model = 'ipca_filter_normalized_log1p_for_embedding_10504_features_normalized_log1p_capped_100comp'\n",
    "\n",
    "str_suffix_new = '_aligned'\n",
    "str_suffix = '_filter_normalized_log1p_for_embedding_10504_features_normalized_log1p_capped_100comp'\n",
    "name_col_pca = f'X_pca{str_suffix}{str_suffix_new}'\n",
    "\n",
    "\"\"\"\n",
    "Get PCA values\n",
    "\"\"\"\n",
    "model = ram.apply_pca( \n",
    "    name_model = f'ipca{str_suffix}', \n",
    "    name_layer = 'normalized_log1p_capped', \n",
    "    name_col = name_col_pca, \n",
    "    name_col_filter = f'filter_pca{str_suffix}{str_suffix_new}', \n",
    "    int_n_components_in_a_chunk = 20, \n",
    "    int_num_threads = 5,\n",
    "    int_index_component_reference = 0,\n",
    ")"
   ]
  },
  {
   "cell_type": "code",
   "execution_count": null,
   "id": "6ea6bb3d",
   "metadata": {
    "ExecuteTime": {
     "start_time": "2023-11-17T15:20:49.981Z"
    }
   },
   "outputs": [
    {
     "name": "stderr",
     "output_type": "stream",
     "text": [
      "2023-11-18 00:29:09,183 [root] <INFO> (apply_knn) - [Info] [RamData.apply_label] the nearest-neighbor search started\n",
      "2023-11-18 00:29:09,184 [SC-Elephant] <INFO> (apply_knn) - Starting kNN-based embedder operation using 259736 entries in the index\n",
      "embedder using 259736 entries: 100%|████████████████████████████████████████████████████████████████████████████████████████████████████████████████████████████████████████████████████████████████████████████████████████████████████████████████████████████████████████████████████████████████████████████████████████████████████████████████████████████████████████████████████████████████| 2700/2700 [00:06<00:00, 415.75it/s]\n"
     ]
    }
   ],
   "source": [
    "\"\"\"\n",
    "co-embedding of new barcodes\n",
    "\"\"\"\n",
    "str_num_subsampled_cells = '20480000'\n",
    "name_model = f\"knnindex__filtered_barcodes_subsampled_{str_num_subsampled_cells}_entries_clus_info__X_pca_filter_normalized_log1p_for_embedding_10504_features_normalized_log1p_capped_100comp__100comp__30_neighbors\"\n",
    "name_col_filter_bc_subsampled = f'filtered_barcodes_subsampled_{str_num_subsampled_cells}_entries_clus_info'\n",
    "name_umap = 'X_umap_filter_normalized_log1p_for_embedding_10504_features_normalized_log1p_capped_100comp_filtered_barcodes_subsampled_18097526_entries_30knn100comp_scanpy_spectral'\n",
    "name_umap_combined = f'{name_umap}_combined'\n",
    "\n",
    "ram.bc.change_filter( name_col_filter_bc_subsampled )\n",
    "\n",
    "ram.bc.meta[ name_umap_combined ] = ram.bc.meta[ name_umap ] # copy original values\n",
    "\n",
    "# primary & secondary neighbors\n",
    "ram.bc.change_filter( name_col_bc_all )\n",
    "ram.apply_knn(\n",
    "    name_model,\n",
    "    name_col_x = name_col_pca, \n",
    "    name_col_y_input = name_umap,\n",
    "    name_col_y_output = name_umap_combined,\n",
    "    axis = 'barcodes',\n",
    "    operation = 'embedder',\n",
    "    float_std_ratio_for_outlier_detection = 0.03,\n",
    "    name_col_filter_neighbors_of_the_query = 'filter_barcodes_aligned',\n",
    "    int_index_component_reference = 0,\n",
    ")\n",
    "\n",
    "# primary neighbors only\n",
    "ram.bc.change_filter( name_col_bc_all )\n",
    "ram.apply_knn(\n",
    "    name_model,\n",
    "    name_col_x = name_col_pca, \n",
    "    name_col_y_input = name_umap,\n",
    "    name_col_y_output = name_umap_combined,\n",
    "    axis = 'barcodes',\n",
    "    operation = 'embedder',\n",
    "    float_std_ratio_for_outlier_detection = 0.03,\n",
    "    name_col_filter_neighbors_of_the_query = 'filter_barcodes_aligned_primary',\n",
    "    flag_include_secondary_neighbors_of_the_query = False,\n",
    "    int_index_component_reference = 0,\n",
    ")"
   ]
  },
  {
   "cell_type": "code",
   "execution_count": null,
   "id": "0f390e9b",
   "metadata": {
    "ExecuteTime": {
     "start_time": "2023-11-17T15:20:50.517Z"
    }
   },
   "outputs": [],
   "source": [
    "\"\"\"\n",
    "Deep-learning based annotation prediction - using the cell types annotations based on the marker genes from the CellMarker 2.0 Database\n",
    "\"\"\"\n",
    "for resol in [ 0.1, 0.5, 1, 2, 5, 10, 20, 30 ] :\n",
    "    name_anno_combined = f'annotation_label_predicted_resol_{resol}'\n",
    "    name_anno = f'annotated_leiden_filter_normalized_log1p_for_embedding_10504_features_normalized_log1p_capped_100comp_filtered_barcodes_subsampled_10857942_entries_30knn100comp_scanpy__resolution_{resol}_based_on_cellmarker2db'\n",
    "    \n",
    "    # copy original values\n",
    "    ram.bc.filter = None # copy all values without lazy loading\n",
    "    ram.bc.meta[ name_anno_combined ] = ram.bc.meta[ name_anno ] # copy original values\n",
    "    \n",
    "    ram.bc.filter = ram.bc.select_component( 1 ) & ram.bc.get_filter( name_col_bc_all ) # select the component 1\n",
    "    ram.apply_dl( \n",
    "        name_model = f'dl_model_X_pca_filter_normalized_log1p_for_embedding_10504_features_normalized_log1p_capped_100comp_annotated_leiden_10857942_entries_30knn100comp_scanpy__resolution_{resol}_based_on_cellmarker2db',\n",
    "        name_col_x = name_col_pca, \n",
    "        name_col_y = name_anno_combined,\n",
    "        operation = 'classifier', \n",
    "        flag_apply_to_entries_used_for_training = True, \n",
    "        int_num_entries_in_a_batch = 500000, \n",
    "        int_num_threads = 5\n",
    "    )"
   ]
  },
  {
   "cell_type": "code",
   "execution_count": null,
   "id": "00b870f8",
   "metadata": {
    "ExecuteTime": {
     "start_time": "2023-11-17T15:20:51.141Z"
    }
   },
   "outputs": [],
   "source": [
    "\"\"\"\n",
    "Deep-learning based annotation prediction - using the cell types annotations from the Extended PBMC3k dataset\n",
    "\"\"\"\n",
    "name_anno_combined = f'extended_pbmc3k_predicted_cell_type'\n",
    "name_anno = f'metadata__pbmc3k_alignment_primary_and_secondary_neighbors__cell_type'\n",
    "\n",
    "# copy original values\n",
    "ram.bc.filter = None # copy all values without lazy loading\n",
    "ram.bc.meta[ name_anno_combined ] = ram.bc.meta[ name_anno ] # copy original values\n",
    "\n",
    "ram.bc.filter = ram.bc.select_component( 1 ) & ram.bc.get_filter( name_col_bc_all ) # select the component 1\n",
    "ram.apply_dl( \n",
    "    name_model = f'metadata__pbmc3k_alignment_primary_and_secondary_neighbors__cell_type.classifier',\n",
    "    name_col_x = name_col_pca, \n",
    "    name_col_y = name_anno_combined,\n",
    "    operation = 'classifier', \n",
    "    flag_apply_to_entries_used_for_training = True, \n",
    "    int_num_entries_in_a_batch = 500000, \n",
    "    int_num_threads = 5\n",
    ")"
   ]
  },
  {
   "cell_type": "code",
   "execution_count": null,
   "id": "63a3bdc8",
   "metadata": {
    "ExecuteTime": {
     "start_time": "2023-11-17T15:20:51.550Z"
    },
    "scrolled": false
   },
   "outputs": [],
   "source": [
    "'''\n",
    "set filter of the external data (dataset of interest)\n",
    "'''\n",
    "# set filter\n",
    "ram.bc.filter = ( ram.bc.select_component( 0 ) & ram.bc.get_filter( f'filtered_barcodes_subsampled_{str_num_subsampled_cells}_entries_clus_info' ) ) | ( ram.bc.select_component( 1 ) & ram.bc.get_filter( name_col_bc_all ) )\n",
    "\n",
    "ram.ft.load_str( )\n",
    "\n",
    "# save as a filter\n",
    "ram.bc.save_as_filter(\n",
    "    ram.bc.select_component( 1 ) & ram.bc.get_filter( name_col_bc_all ),\n",
    "    'filter_external_data'\n",
    ")\n",
    "\n",
    "\"\"\"\n",
    "plot co-embedded cells\n",
    "\"\"\"\n",
    "# set filter\n",
    "ram.bc.filter = ( ram.bc.select_component( 0 ) & ram.bc.get_filter( f'filtered_barcodes_subsampled_{str_num_subsampled_cells}_entries_clus_info' ) ) | ( ram.bc.select_component( 1 ) & ram.bc.get_filter( name_col_bc_all ) )\n",
    "\n",
    "adata = ram[ \n",
    "    'normalized_log1p_capped', \n",
    "    :, \n",
    "    [ \"str\", 'raw_sum', 'filter_external_data', f'extended_pbmc3k_predicted_cell_type', { name_umap_combined } ] + l_anno_ori + list( f'annotation_label_predicted_resol_{resol}' for resol in [ 0.1, 0.5, 1, 2, 5, 10, 20, 30 ] ), \n",
    "    ['ACTA2', 'COL1A1', 'TAGLN', 'MYL9', 'COX4I2', 'MKI67', 'CDH5', 'SRGN', 'ACTC1', 'SPP1', 'VCAM1', 'PLCB4', 'KRT19', 'MSI2', 'COLEC11', 'SGIP1', 'MMP11', 'APOA2', 'FLT1', 'POU5F1', 'KRT19', 'COL4A2', 'POSTN', 'CCL19', 'CCL21'], \n",
    "    [ 'str' ]\n",
    "]\n",
    "adata.obsm[ 'X_umap' ] = adata.obsm[ name_umap_combined ]\n",
    "adata.obs[ 'filter_external_data' ] = adata.obs[ 'filter_external_data' ].astype( str ).astype( object )\n",
    "    \n",
    "sc.pl.umap( adata, color = 'filter_external_data' )\n",
    "\n",
    "\"\"\"\n",
    "plot predicted annotations\n",
    "\"\"\"\n",
    "for resol in [ 0.1, 0.5, 1, 2, 5, 10, 20, 30 ] : # cell types annotations based on the marker genes from the CellMarker 2.0 Database\n",
    "    name_anno_combined = f'annotation_label_predicted_resol_{resol}'\n",
    "    name_anno = f'annotated_leiden_filter_normalized_log1p_for_embedding_10504_features_normalized_log1p_capped_100comp_filtered_barcodes_subsampled_10857942_entries_30knn100comp_scanpy__resolution_{resol}_based_on_cellmarker2db'\n",
    "    try :\n",
    "        adata.obs[ name_anno_combined ] = adata.obs[ name_anno_combined ].cat.add_categories( 'NA' )\n",
    "    except :\n",
    "        pass\n",
    "    sc.pl.umap( adata, color = name_anno_combined, palette = 'prism', legend_loc = None )\n",
    "    \n",
    "    adata.obs[ f\"{name_anno_combined}_external_only\" ] = adata.obs[ name_anno_combined ]\n",
    "    adata.obs.loc[ adata.obs[ 'filter_external_data' ].values == 'False', f\"{name_anno_combined}_external_only\" ] = 'NA'\n",
    "    adata.uns[ f'{name_anno_combined}_external_only_colors' ] = adata.uns[ f'{name_anno_combined}_colors' ]\n",
    "    adata.uns[ f'{name_anno_combined}_external_only_colors' ][ - 1 ] = '#c2c2c2'\n",
    "    sc.pl.umap( adata, color = f\"{name_anno_combined}_external_only\", legend_loc = None )\n",
    "    \n",
    "sc.pl.umap( adata, color = 'extended_pbmc3k_predicted_cell_type' ) # cell types annotations from the Extended PBMC3k dataset"
   ]
  },
  {
   "cell_type": "code",
   "execution_count": null,
   "id": "648452d3",
   "metadata": {
    "ExecuteTime": {
     "start_time": "2023-11-17T15:20:51.894Z"
    },
    "scrolled": false
   },
   "outputs": [],
   "source": [
    "\"\"\"\n",
    "compare annotations\n",
    "\"\"\"\n",
    "def Shankey_Compare_Annotations( l_anno_1, l_anno_2, int_min_num_entries_for_an_overlap : int = 3, flag_show_label : bool = True, font_size : int = 10, title : str = '', dict_color : dict = dict( ) ) :\n",
    "    \"\"\" # 2023-03-05 16:32:49 \n",
    "    draw a Shankey diagram using Plotly for the given lists of annotations\n",
    "    \n",
    "    l_anno_1 # first list of annotations \n",
    "    l_anno_2 # second list of annotations \n",
    "    int_min_num_entries_for_an_overlap : int = 3 # the minmum number of entries for a link (overlaps between two annotations) to be valid.\n",
    "    title : Union[ None, str ] = None # the name of the figure. if None is given, no title will be shown\n",
    "    font_size : int = 10, # the font size of the title\n",
    "    dict_color : dict = dict( ), # name of the label to color mapping\n",
    "    \"\"\"\n",
    "    import numpy as np\n",
    "    def _map( arr_anno, start_pos : int = 0 ) :\n",
    "        \"\"\"\n",
    "        return a dictionary for mapping annotation to its integer representation and a list of unique annotation labels\n",
    "        \"\"\"\n",
    "        l_anno_unique = el.bk.LIST_COUNT( arr_anno, duplicate_filter = None ).index.values # retrieve a list of unique annotations\n",
    "        return dict( ( e, i + start_pos ) for i, e in enumerate( l_anno_unique ) ), l_anno_unique\n",
    "\n",
    "    dict_map_1, arr_anno_unique_1 = _map( l_anno_1, start_pos = 0 )\n",
    "    dict_map_2, arr_anno_unique_2 = _map( l_anno_2, start_pos = len( dict_map_1 ) )\n",
    "    label = list( arr_anno_unique_1 ) + list( arr_anno_unique_2 ) if flag_show_label else None # compose a list of unique labels # does not show labels if 'flag_show_label' is False\n",
    "\n",
    "    # retrieve values for drawing the diagram\n",
    "    source, target, value = el.bk.LIST_COUNT( np.array( [ list( dict_map_1[ e ] for e in l_anno_1 ), list( dict_map_2[ e ] for e in l_anno_2 ) ], dtype = int ).T, duplicate_filter = int_min_num_entries_for_an_overlap ).reset_index( drop = False ).values.T\n",
    "    # compose a dataframe\n",
    "    \n",
    "    # draw a plot\n",
    "    import plotly.graph_objects as go\n",
    "\n",
    "    fig = go.Figure( data = [ go.Sankey(\n",
    "        node = dict(\n",
    "          pad = 15,\n",
    "          thickness = 20,\n",
    "          line = dict( color = \"black\", width = 0.5 ),\n",
    "          label = label,\n",
    "          color = list( dict_color[ e ] if e in dict_color else 'blue' for e in label ),\n",
    "        ),\n",
    "        link = dict(\n",
    "          source = source, \n",
    "          target = target,\n",
    "          value = value\n",
    "      ))])\n",
    "    if title is not None :\n",
    "        fig.update_layout( title_text = title, font_size = font_size )\n",
    "    return fig\n",
    "def Get_dict_color( adata, name_col : str ) :\n",
    "    ''' get name_category > color mapping of a given column in the .obs of a given AnnData '''\n",
    "    try :\n",
    "        return dict( ( n, c ) for n, c in zip( adata.obs[ name_col ].cat.categories, adata.uns[ name_col + '_colors' ] ) )\n",
    "    except :\n",
    "        return dict( )\n",
    "    \n",
    "# define the folder containing the data\n",
    "path_folder_graph = f'output/graph/'\n",
    "os.makedirs( path_folder_graph, exist_ok = True ) # create the output folder\n",
    "\n",
    "dict_color_ori = {'0': '#1f77b4', '1': '#ff7f0e', '2': '#2ca02c', '3': '#d62728', '4': '#9467bd', '5': '#8c564b', '6': '#e377c2', '7': '#7f7f7f', '8': '#bcbd22', '9': '#17becf' } # colors of the original annotations\n",
    "name_anno_ori = l_anno_ori[ 0 ] # name of the columns containing original annotations\n",
    "for resol in [ 0.1, 0.5, 1, 2, 5, 10, 20, 30 ] : # cell types annotations based on the marker genes from the CellMarker 2.0 Database\n",
    "    name_anno_combined = f'annotation_label_predicted_resol_{resol}'\n",
    "    name_anno = f'annotated_leiden_filter_normalized_log1p_for_embedding_10504_features_normalized_log1p_capped_100comp_filtered_barcodes_subsampled_10857942_entries_30knn100comp_scanpy__resolution_{resol}_based_on_cellmarker2db'\n",
    "    \n",
    "    l_anno_1, l_anno_2 = adata.obs.loc[ adata.obs[ 'filter_external_data' ] == 'True', [ name_anno_ori, name_anno_combined ] ].values.T\n",
    "    fig = Shankey_Compare_Annotations( l_anno_1, l_anno_2, int_min_num_entries_for_an_overlap = 20, flag_show_label = True, title = name_anno_combined, dict_color = { ** dict_color_ori, ** Get_dict_color( adata, name_anno_combined ) } )\n",
    "    fig.show( )\n",
    "    fig.write_html( f\"{path_folder_graph}plotly.shankey_comparison.{name_anno_ori}.{name_anno_combined}.html\" )\n",
    "    \n",
    "# cell types annotations from the Extended PBMC3k dataset\n",
    "name_anno_combined = f'extended_pbmc3k_predicted_cell_type'\n",
    "name_anno = f'metadata__pbmc3k_alignment_primary_and_secondary_neighbors__cell_type'\n",
    "\n",
    "l_anno_1, l_anno_2 = adata.obs.loc[ adata.obs[ 'filter_external_data' ] == 'True', [ name_anno_ori, name_anno_combined ] ].values.T\n",
    "fig = Shankey_Compare_Annotations( l_anno_1, l_anno_2, int_min_num_entries_for_an_overlap = 20, flag_show_label = True, title = name_anno_combined, dict_color = { ** dict_color_ori, ** Get_dict_color( adata, name_anno_combined ) } )\n",
    "fig.show( )\n",
    "fig.write_html( f\"{path_folder_graph}plotly.shankey_comparison.{name_anno_ori}.{name_anno_combined}.html\" )"
   ]
  },
  {
   "cell_type": "code",
   "execution_count": null,
   "id": "c86f15d9",
   "metadata": {},
   "outputs": [],
   "source": []
  },
  {
   "cell_type": "code",
   "execution_count": null,
   "id": "29ac9fc2",
   "metadata": {},
   "outputs": [],
   "source": []
  },
  {
   "cell_type": "code",
   "execution_count": null,
   "id": "9b3a29f2",
   "metadata": {},
   "outputs": [],
   "source": []
  },
  {
   "cell_type": "code",
   "execution_count": null,
   "id": "47eb8c7d",
   "metadata": {},
   "outputs": [],
   "source": []
  },
  {
   "cell_type": "code",
   "execution_count": null,
   "id": "baa856af",
   "metadata": {},
   "outputs": [],
   "source": []
  },
  {
   "cell_type": "code",
   "execution_count": null,
   "id": "7b5aa206",
   "metadata": {},
   "outputs": [],
   "source": []
  },
  {
   "cell_type": "code",
   "execution_count": null,
   "id": "7e463b8a",
   "metadata": {},
   "outputs": [],
   "source": []
  },
  {
   "cell_type": "code",
   "execution_count": null,
   "id": "fc380113",
   "metadata": {},
   "outputs": [],
   "source": []
  },
  {
   "cell_type": "code",
   "execution_count": null,
   "id": "da29923b",
   "metadata": {},
   "outputs": [],
   "source": []
  },
  {
   "cell_type": "code",
   "execution_count": null,
   "id": "ef5a7ace",
   "metadata": {},
   "outputs": [],
   "source": []
  },
  {
   "cell_type": "code",
   "execution_count": null,
   "id": "fd045655",
   "metadata": {},
   "outputs": [],
   "source": []
  },
  {
   "cell_type": "code",
   "execution_count": null,
   "id": "ca3b542d",
   "metadata": {},
   "outputs": [],
   "source": []
  },
  {
   "cell_type": "code",
   "execution_count": null,
   "id": "dc758df8",
   "metadata": {},
   "outputs": [],
   "source": []
  },
  {
   "cell_type": "code",
   "execution_count": null,
   "id": "0ae2b1f0",
   "metadata": {},
   "outputs": [],
   "source": []
  },
  {
   "cell_type": "code",
   "execution_count": null,
   "id": "817ddc63",
   "metadata": {},
   "outputs": [],
   "source": []
  },
  {
   "cell_type": "code",
   "execution_count": null,
   "id": "453b7417",
   "metadata": {},
   "outputs": [],
   "source": []
  },
  {
   "cell_type": "code",
   "execution_count": null,
   "id": "b53f5fab",
   "metadata": {},
   "outputs": [],
   "source": []
  },
  {
   "cell_type": "code",
   "execution_count": null,
   "id": "e8a26f0c",
   "metadata": {},
   "outputs": [],
   "source": []
  },
  {
   "cell_type": "code",
   "execution_count": null,
   "id": "c4e75877",
   "metadata": {},
   "outputs": [],
   "source": []
  },
  {
   "cell_type": "code",
   "execution_count": null,
   "id": "582f804e",
   "metadata": {},
   "outputs": [],
   "source": []
  },
  {
   "cell_type": "code",
   "execution_count": null,
   "id": "186abbe9",
   "metadata": {},
   "outputs": [],
   "source": []
  },
  {
   "cell_type": "code",
   "execution_count": null,
   "id": "8b9daf5f",
   "metadata": {},
   "outputs": [],
   "source": []
  },
  {
   "cell_type": "code",
   "execution_count": null,
   "id": "bd5fd679",
   "metadata": {},
   "outputs": [],
   "source": []
  },
  {
   "cell_type": "code",
   "execution_count": null,
   "id": "e4a46961",
   "metadata": {},
   "outputs": [],
   "source": []
  },
  {
   "cell_type": "code",
   "execution_count": null,
   "id": "8f6b73c4",
   "metadata": {},
   "outputs": [],
   "source": []
  },
  {
   "cell_type": "code",
   "execution_count": null,
   "id": "93be4ab1",
   "metadata": {},
   "outputs": [],
   "source": []
  },
  {
   "cell_type": "code",
   "execution_count": null,
   "id": "00549a57",
   "metadata": {},
   "outputs": [],
   "source": []
  },
  {
   "cell_type": "code",
   "execution_count": null,
   "id": "964f9dcd",
   "metadata": {},
   "outputs": [],
   "source": []
  },
  {
   "cell_type": "code",
   "execution_count": null,
   "id": "a0d13b7f",
   "metadata": {},
   "outputs": [],
   "source": []
  },
  {
   "cell_type": "code",
   "execution_count": null,
   "id": "58e06e54",
   "metadata": {},
   "outputs": [],
   "source": []
  },
  {
   "cell_type": "code",
   "execution_count": null,
   "id": "3300aab2",
   "metadata": {},
   "outputs": [],
   "source": []
  },
  {
   "cell_type": "code",
   "execution_count": null,
   "id": "bd4144cd",
   "metadata": {},
   "outputs": [],
   "source": []
  },
  {
   "cell_type": "code",
   "execution_count": null,
   "id": "0f137715",
   "metadata": {},
   "outputs": [],
   "source": []
  },
  {
   "cell_type": "code",
   "execution_count": null,
   "id": "78edeaff",
   "metadata": {},
   "outputs": [],
   "source": []
  },
  {
   "cell_type": "code",
   "execution_count": null,
   "id": "2d64095a",
   "metadata": {},
   "outputs": [],
   "source": []
  },
  {
   "cell_type": "code",
   "execution_count": null,
   "id": "b2084313",
   "metadata": {},
   "outputs": [],
   "source": []
  },
  {
   "cell_type": "code",
   "execution_count": null,
   "id": "59118ed1",
   "metadata": {},
   "outputs": [],
   "source": []
  },
  {
   "cell_type": "code",
   "execution_count": null,
   "id": "1767ecd1",
   "metadata": {},
   "outputs": [],
   "source": []
  },
  {
   "cell_type": "code",
   "execution_count": null,
   "id": "cd44c077",
   "metadata": {},
   "outputs": [],
   "source": []
  },
  {
   "cell_type": "code",
   "execution_count": null,
   "id": "997892f5",
   "metadata": {},
   "outputs": [],
   "source": []
  },
  {
   "cell_type": "code",
   "execution_count": null,
   "id": "aa46bc5b",
   "metadata": {},
   "outputs": [],
   "source": []
  },
  {
   "cell_type": "code",
   "execution_count": null,
   "id": "33a9c63a",
   "metadata": {},
   "outputs": [],
   "source": []
  },
  {
   "cell_type": "code",
   "execution_count": null,
   "id": "d62be491",
   "metadata": {},
   "outputs": [],
   "source": []
  },
  {
   "cell_type": "code",
   "execution_count": null,
   "id": "6ddc6812",
   "metadata": {},
   "outputs": [],
   "source": []
  },
  {
   "cell_type": "code",
   "execution_count": null,
   "id": "ada48260",
   "metadata": {},
   "outputs": [],
   "source": []
  },
  {
   "cell_type": "code",
   "execution_count": null,
   "id": "91aa87b9",
   "metadata": {},
   "outputs": [],
   "source": []
  },
  {
   "cell_type": "code",
   "execution_count": null,
   "id": "5e3e4e80",
   "metadata": {},
   "outputs": [],
   "source": []
  },
  {
   "cell_type": "code",
   "execution_count": null,
   "id": "6d2cdf14",
   "metadata": {},
   "outputs": [],
   "source": []
  },
  {
   "cell_type": "code",
   "execution_count": null,
   "id": "9434f69b",
   "metadata": {},
   "outputs": [],
   "source": []
  },
  {
   "cell_type": "code",
   "execution_count": null,
   "id": "5235bc68",
   "metadata": {},
   "outputs": [],
   "source": []
  },
  {
   "cell_type": "code",
   "execution_count": null,
   "id": "e80188d4",
   "metadata": {},
   "outputs": [],
   "source": []
  },
  {
   "cell_type": "code",
   "execution_count": null,
   "id": "c22acc2a",
   "metadata": {},
   "outputs": [],
   "source": []
  },
  {
   "cell_type": "code",
   "execution_count": null,
   "id": "c89df7d1",
   "metadata": {},
   "outputs": [],
   "source": []
  },
  {
   "cell_type": "code",
   "execution_count": null,
   "id": "e92047ff",
   "metadata": {},
   "outputs": [],
   "source": []
  },
  {
   "cell_type": "code",
   "execution_count": null,
   "id": "fb62600a",
   "metadata": {},
   "outputs": [],
   "source": []
  },
  {
   "cell_type": "code",
   "execution_count": null,
   "id": "2c692dc0",
   "metadata": {},
   "outputs": [],
   "source": []
  },
  {
   "cell_type": "code",
   "execution_count": null,
   "id": "f7e9f2b4",
   "metadata": {},
   "outputs": [],
   "source": []
  },
  {
   "cell_type": "code",
   "execution_count": null,
   "id": "87c4f327",
   "metadata": {},
   "outputs": [],
   "source": []
  },
  {
   "cell_type": "code",
   "execution_count": null,
   "id": "d2cb7490",
   "metadata": {},
   "outputs": [],
   "source": []
  },
  {
   "cell_type": "code",
   "execution_count": null,
   "id": "b1e8efb6",
   "metadata": {},
   "outputs": [],
   "source": []
  },
  {
   "cell_type": "code",
   "execution_count": null,
   "id": "b847ca67",
   "metadata": {},
   "outputs": [],
   "source": []
  },
  {
   "cell_type": "code",
   "execution_count": null,
   "id": "63dd635f",
   "metadata": {},
   "outputs": [],
   "source": []
  },
  {
   "cell_type": "code",
   "execution_count": null,
   "id": "27e2e9be",
   "metadata": {},
   "outputs": [],
   "source": []
  },
  {
   "cell_type": "code",
   "execution_count": null,
   "id": "845ac0bf",
   "metadata": {},
   "outputs": [],
   "source": []
  }
 ],
 "metadata": {
  "kernelspec": {
   "display_name": "Python 3 (ipykernel)",
   "language": "python",
   "name": "python3"
  },
  "language_info": {
   "codemirror_mode": {
    "name": "ipython",
    "version": 3
   },
   "file_extension": ".py",
   "mimetype": "text/x-python",
   "name": "python",
   "nbconvert_exporter": "python",
   "pygments_lexer": "ipython3",
   "version": "3.10.9"
  },
  "toc": {
   "base_numbering": 1,
   "nav_menu": {},
   "number_sections": true,
   "sideBar": true,
   "skip_h1_title": false,
   "title_cell": "Table of Contents",
   "title_sidebar": "Contents",
   "toc_cell": false,
   "toc_position": {},
   "toc_section_display": true,
   "toc_window_display": false
  }
 },
 "nbformat": 4,
 "nbformat_minor": 5
}
