{
 "cells": [
  {
   "cell_type": "markdown",
   "id": "741395b5",
   "metadata": {
    "heading_collapsed": true
   },
   "source": [
    "# Preprocessing and clustering 3k PBMCs\n",
    "v2023-11-15"
   ]
  },
  {
   "cell_type": "markdown",
   "id": "69e0e894",
   "metadata": {
    "hidden": true
   },
   "source": [
    "We gratefully acknowledge Seurat’s and Scanpy's authors for the tutorials.\n",
    "\n",
    "We used the same data (3k PBMCs) from a Healthy Donor, which are freely available from 10x Genomics ([download page](https://support.10xgenomics.com/single-cell-gene-expression/datasets/1.1.0/pbmc3k)). "
   ]
  },
  {
   "cell_type": "code",
   "execution_count": 2,
   "id": "f91dc46e",
   "metadata": {
    "ExecuteTime": {
     "end_time": "2023-11-16T13:36:16.720368Z",
     "start_time": "2023-11-16T13:36:16.717511Z"
    },
    "hidden": true
   },
   "outputs": [],
   "source": [
    "import os"
   ]
  },
  {
   "cell_type": "code",
   "execution_count": 3,
   "id": "e71fb188",
   "metadata": {
    "ExecuteTime": {
     "end_time": "2023-11-16T13:36:17.045330Z",
     "start_time": "2023-11-16T13:36:16.723976Z"
    },
    "hidden": true
   },
   "outputs": [],
   "source": [
    "# delete the intermediate output folders\n",
    "!rm -rf \"/home/merit_an/git/scelephant/doc/jn/tutorials/data/\"\n",
    "!rm -rf \"/home/merit_an/git/scelephant/doc/jn/tutorials/output/\""
   ]
  },
  {
   "cell_type": "code",
   "execution_count": 4,
   "id": "027c0d1e",
   "metadata": {
    "ExecuteTime": {
     "end_time": "2023-11-16T13:36:17.053085Z",
     "start_time": "2023-11-16T13:36:17.050068Z"
    },
    "hidden": true
   },
   "outputs": [],
   "source": [
    "os.chdir( '/home/merit_an/git/scelephant/doc/jn/tutorials/' )"
   ]
  },
  {
   "cell_type": "code",
   "execution_count": 5,
   "id": "8158ddf1",
   "metadata": {
    "ExecuteTime": {
     "end_time": "2023-11-16T13:36:21.778848Z",
     "start_time": "2023-11-16T13:36:17.055169Z"
    },
    "hidden": true
   },
   "outputs": [
    {
     "name": "stdout",
     "output_type": "stream",
     "text": [
      "--2023-11-16 22:36:17--  http://cf.10xgenomics.com/samples/cell-exp/1.1.0/pbmc3k/pbmc3k_filtered_gene_bc_matrices.tar.gz\n",
      "Resolving cf.10xgenomics.com (cf.10xgenomics.com)... 104.18.0.173, 104.18.1.173, 2606:4700::6812:1ad, ...\n",
      "Connecting to cf.10xgenomics.com (cf.10xgenomics.com)|104.18.0.173|:80... connected.\n",
      "HTTP request sent, awaiting response... 301 Moved Permanently\n",
      "Location: https://cf.10xgenomics.com/samples/cell-exp/1.1.0/pbmc3k/pbmc3k_filtered_gene_bc_matrices.tar.gz [following]\n",
      "--2023-11-16 22:36:17--  https://cf.10xgenomics.com/samples/cell-exp/1.1.0/pbmc3k/pbmc3k_filtered_gene_bc_matrices.tar.gz\n",
      "Connecting to cf.10xgenomics.com (cf.10xgenomics.com)|104.18.0.173|:443... connected.\n",
      "HTTP request sent, awaiting response... 200 OK\n",
      "Length: 7621991 (7.3M) [application/x-tar]\n",
      "Saving to: ‘data/pbmc3k_filtered_gene_bc_matrices.tar.gz’\n",
      "\n",
      "data/pbmc3k_filtere 100%[===================>]   7.27M  5.98MB/s    in 1.2s    \n",
      "\n",
      "2023-11-16 22:36:19 (5.98 MB/s) - ‘data/pbmc3k_filtered_gene_bc_matrices.tar.gz’ saved [7621991/7621991]\n",
      "\n"
     ]
    }
   ],
   "source": [
    "!mkdir data\n",
    "!wget http://cf.10xgenomics.com/samples/cell-exp/1.1.0/pbmc3k/pbmc3k_filtered_gene_bc_matrices.tar.gz -O data/pbmc3k_filtered_gene_bc_matrices.tar.gz\n",
    "!cd data && tar -xzf pbmc3k_filtered_gene_bc_matrices.tar.gz && gzip filtered_gene_bc_matrices/hg19/* && mv filtered_gene_bc_matrices/hg19/genes.tsv.gz filtered_gene_bc_matrices/hg19/features.tsv.gz\n",
    "!mkdir output"
   ]
  },
  {
   "cell_type": "code",
   "execution_count": 6,
   "id": "4f1ca636",
   "metadata": {
    "ExecuteTime": {
     "end_time": "2023-11-16T13:36:21.788059Z",
     "start_time": "2023-11-16T13:36:21.781608Z"
    },
    "hidden": true
   },
   "outputs": [
    {
     "data": {
      "text/html": [
       "<style>.container { width:100% !important; }</style>"
      ],
      "text/plain": [
       "<IPython.core.display.HTML object>"
      ]
     },
     "metadata": {},
     "output_type": "display_data"
    },
    {
     "data": {
      "text/html": [
       "<style>div.cell{width:100%;margin-left:0%;margin-right:auto;}</style>"
      ],
      "text/plain": [
       "<IPython.core.display.HTML object>"
      ]
     },
     "metadata": {},
     "output_type": "display_data"
    }
   ],
   "source": [
    "# not use GPU\n",
    "import os\n",
    "os.environ[\"CUDA_VISIBLE_DEVICES\"] = \"-1\"\n",
    "\n",
    "# import scelephant\n",
    "import scelephant as el\n",
    "import scanpy as sc\n",
    "\n",
    "\"\"\"\n",
    "configure the jupyter notebook environment\n",
    "\"\"\"\n",
    "el.bk.Wide( 100 ) # adjust the jupyter notebook cell width \n",
    "\n",
    "import matplotlib as mpl\n",
    "mpl.rcParams[ \"figure.dpi\" ] = 100\n",
    "# set image resolution\n",
    "\n",
    "# load memory profiler \n",
    "# %load_ext memory_profiler"
   ]
  },
  {
   "cell_type": "markdown",
   "id": "70182953",
   "metadata": {
    "hidden": true
   },
   "source": [
    "**Convert MTX -> RamData**"
   ]
  },
  {
   "cell_type": "code",
   "execution_count": 7,
   "id": "b0549399",
   "metadata": {
    "ExecuteTime": {
     "end_time": "2023-11-16T13:36:22.112614Z",
     "start_time": "2023-11-16T13:36:21.791689Z"
    },
    "hidden": true
   },
   "outputs": [],
   "source": [
    "!rm -rf \"output/\"\n",
    "!mkdir output"
   ]
  },
  {
   "cell_type": "code",
   "execution_count": null,
   "id": "391b65f8",
   "metadata": {
    "ExecuteTime": {
     "start_time": "2023-11-16T13:36:14.458Z"
    },
    "hidden": true
   },
   "outputs": [],
   "source": [
    "# define working directory\n",
    "path_folder_pipeline = os.getcwd( ) + '/' # retrieve current working directory\n",
    "\n",
    "# initialize a pool of managed operators\n",
    "# fop = el.managers.FileSystemOperatorPool( 8 )\n",
    "fop = managers.FileSystemOperatorPool( 8 )\n",
    "\n",
    "# create RamData from 10X-formateed MTX\n",
    "# el.create_ramdata_from_mtx( \n",
    "create_ramdata_from_mtx( \n",
    "    path_folder_mtx_10x_input = f'data/filtered_gene_bc_matrices/hg19/', \n",
    "    path_folder_ramdata_output = f'output/pbmc3k.ram/',\n",
    "    file_system_operator_pool = fop,\n",
    ")"
   ]
  },
  {
   "cell_type": "markdown",
   "id": "2af28f79",
   "metadata": {
    "hidden": true
   },
   "source": [
    "**loading RamData**"
   ]
  },
  {
   "cell_type": "code",
   "execution_count": null,
   "id": "bdf538de",
   "metadata": {
    "ExecuteTime": {
     "start_time": "2023-11-16T13:36:15.081Z"
    },
    "hidden": true
   },
   "outputs": [],
   "source": [
    "ram = RamData( \n",
    "    f'output/pbmc3k.ram/', \n",
    "    int_total_weight_for_each_batch = 100_000,\n",
    "    int_num_cpus = 8,\n",
    "    file_system_operator_pool = fop\n",
    ")"
   ]
  },
  {
   "cell_type": "markdown",
   "id": "b5e75621",
   "metadata": {
    "hidden": true
   },
   "source": [
    "**view RamData**"
   ]
  },
  {
   "cell_type": "code",
   "execution_count": null,
   "id": "0582fd6d",
   "metadata": {
    "ExecuteTime": {
     "start_time": "2023-11-16T13:36:15.617Z"
    },
    "hidden": true,
    "scrolled": false
   },
   "outputs": [],
   "source": [
    "ram"
   ]
  },
  {
   "cell_type": "markdown",
   "id": "5bffe815",
   "metadata": {
    "hidden": true
   },
   "source": [
    "**preprocessing**"
   ]
  },
  {
   "cell_type": "code",
   "execution_count": null,
   "id": "9cb1bfab",
   "metadata": {
    "ExecuteTime": {
     "start_time": "2023-11-16T13:36:16.065Z"
    },
    "hidden": true
   },
   "outputs": [],
   "source": [
    "# analysis using fast mode\n",
    "flag_use_fast_mode = False # does not generate intermediate output layers for fast analysis # you can set the flag to False to generate all intermediate layers\n",
    "# preprocess outputs\n",
    "ram.prepare_dimension_reduction_from_raw( \n",
    "    name_layer_raw = 'raw', \n",
    "    name_layer_capped = 'normalized_log1p_capped',\n",
    "    name_layer_scaled = None, \n",
    "    name_col_filter_filtered_barcode = 'filtered_barcodes', \n",
    "    min_counts = 500, \n",
    "    min_features = 200, \n",
    "    int_total_count_target = 10_000, \n",
    "    int_num_highly_variable_features = 2_000, \n",
    "    name_col_filter_highly_variable = 'filter_normalized_log1p_highly_variable_2000',\n",
    "    max_value = 10, \n",
    "    dict_kw_hv = { 'float_min_mean' : 0.01, 'float_min_variance' : 0.01 }, \n",
    "    flag_use_fast_mode = flag_use_fast_mode,\n",
    ")"
   ]
  },
  {
   "cell_type": "markdown",
   "id": "5aa7c2b7",
   "metadata": {
    "hidden": true
   },
   "source": [
    "**prepare dimension reduction**"
   ]
  },
  {
   "cell_type": "code",
   "execution_count": null,
   "id": "e45baf9c",
   "metadata": {
    "ExecuteTime": {
     "start_time": "2023-11-16T13:36:16.553Z"
    },
    "hidden": true
   },
   "outputs": [],
   "source": [
    "# perform UMAP embedding\n",
    "ram.perform_dimension_reduction_and_clustering(\n",
    "    name_layer_pca = 'normalized_log1p_capped', \n",
    "    name_filter_barcodes = 'filtered_barcodes',\n",
    "    name_filter_features = 'filter_normalized_log1p_highly_variable_2000',\n",
    "    str_embedding_method = 'scanpy-umap'\n",
    ")"
   ]
  },
  {
   "cell_type": "code",
   "execution_count": null,
   "id": "c32a3ee5",
   "metadata": {
    "ExecuteTime": {
     "start_time": "2023-11-16T13:36:17.068Z"
    },
    "hidden": true
   },
   "outputs": [],
   "source": [
    "import scanpy as sc\n",
    "# retrieve anndata \n",
    "ram.ft.filter = None # reset the filter\n",
    "adata = ram[\n",
    "    'normalized_log1p_capped',\n",
    "    :,\n",
    "    [ 'str', 'leiden_scanpy', { 'X_pca', 'X_umap_scanpy' } ],\n",
    "    [ 'PTPRC', 'CD8A', 'CD4' ],\n",
    "    [ 'str' ]\n",
    "]\n",
    "adata.obsm[ 'X_umap' ] = adata.obsm[ 'X_umap_scanpy' ]\n",
    "\n",
    "# plot gene expression values\n",
    "sc.pl.umap( adata, color = [ 'PTPRC', 'CD8A', 'CD4' ], cmap = 'Reds' )\n",
    "\n",
    "# plot leiden clustering result\n",
    "sc.pl.umap( adata, color = 'leiden_scanpy' )\n",
    "# done!"
   ]
  },
  {
   "cell_type": "markdown",
   "id": "fedfd524",
   "metadata": {
    "heading_collapsed": true
   },
   "source": [
    "# [ADVANCED] Inside the function 'prepare_dimension_reduction_from_raw' - writing your own custom functions"
   ]
  },
  {
   "cell_type": "code",
   "execution_count": null,
   "id": "90913728",
   "metadata": {
    "ExecuteTime": {
     "end_time": "2022-08-12T06:29:56.892370Z",
     "start_time": "2022-08-12T06:29:56.885126Z"
    },
    "hidden": true
   },
   "outputs": [],
   "source": [
    "self = ram\n",
    "name_layer_raw = 'raw'\n",
    "name_layer_out = 'normalized_log1p_scaled'\n",
    "min_counts = 500\n",
    "min_features = 100\n",
    "int_total_count_target = 10000\n",
    "int_num_highly_variable_features = 2000\n",
    "max_value = 10\n",
    "dict_kw_hv = { 'float_min_mean' : 0.01, 'float_min_variance' : 0.01, 'name_col_filter' : 'filter_normalized_log1p_highly_variable' } "
   ]
  },
  {
   "cell_type": "markdown",
   "id": "d4f65342",
   "metadata": {
    "hidden": true
   },
   "source": [
    "## **cell filtering** step"
   ]
  },
  {
   "cell_type": "code",
   "execution_count": null,
   "id": "6e1c615d",
   "metadata": {
    "ExecuteTime": {
     "end_time": "2022-08-12T06:33:21.812880Z",
     "start_time": "2022-08-12T06:30:01.484275Z"
    },
    "hidden": true,
    "scrolled": false
   },
   "outputs": [],
   "source": [
    "self.summarize( name_layer_raw, 'barcode', 'sum' )"
   ]
  },
  {
   "cell_type": "code",
   "execution_count": null,
   "id": "dbb7164a",
   "metadata": {
    "ExecuteTime": {
     "end_time": "2022-08-12T06:33:36.850610Z",
     "start_time": "2022-08-12T06:33:36.140719Z"
    },
    "hidden": true
   },
   "outputs": [],
   "source": [
    "%memit"
   ]
  },
  {
   "cell_type": "code",
   "execution_count": null,
   "id": "b6e71b96",
   "metadata": {
    "ExecuteTime": {
     "end_time": "2022-08-12T06:34:06.834883Z",
     "start_time": "2022-08-12T06:34:06.566759Z"
    },
    "hidden": true
   },
   "outputs": [],
   "source": [
    "# filter cells\n",
    "self.bc.filter = ( self.bc.all( ) if self.bc.filter is None else self.bc.filter ) & BA.to_bitarray( self.bc.meta[ f'{name_layer_raw}_sum', : ] > min_counts ) & BA.to_bitarray( self.bc.meta[ f'{name_layer_raw}_num_nonzero_values', : ] > min_features )\n",
    "self.bc.save_filter( 'filtered_barcodes' ) # save filter for later analysis\n"
   ]
  },
  {
   "cell_type": "code",
   "execution_count": null,
   "id": "43040b96",
   "metadata": {
    "ExecuteTime": {
     "end_time": "2022-08-12T06:34:08.322733Z",
     "start_time": "2022-08-12T06:34:08.313801Z"
    },
    "hidden": true
   },
   "outputs": [],
   "source": [
    "ram"
   ]
  },
  {
   "cell_type": "code",
   "execution_count": null,
   "id": "7006d95a",
   "metadata": {
    "ExecuteTime": {
     "end_time": "2022-08-12T03:54:07.176853Z",
     "start_time": "2022-08-12T03:54:06.572416Z"
    },
    "hidden": true
   },
   "outputs": [],
   "source": [
    "%memit"
   ]
  },
  {
   "cell_type": "markdown",
   "id": "e0ae733f",
   "metadata": {
    "hidden": true
   },
   "source": [
    "## **surveying feature variance** step"
   ]
  },
  {
   "cell_type": "code",
   "execution_count": null,
   "id": "ce7766c2",
   "metadata": {
    "ExecuteTime": {
     "end_time": "2022-08-12T03:57:54.647843Z",
     "start_time": "2022-08-12T03:54:07.180403Z"
    },
    "hidden": true,
    "scrolled": false
   },
   "outputs": [],
   "source": [
    "# retrieve total raw count data for normalization\n",
    "self.bc.meta.load_as_dict( f'{name_layer_raw}_sum' )\n",
    "dict_count = self.bc.meta.dict[ f'{name_layer_raw}_sum' ] # retrieve total counts for each barcode as a dictionary\n",
    "\n",
    "# retrieve the total number of barcodes\n",
    "int_total_num_barcodes = self.bc.meta.n_rows\n",
    "\n",
    "def func( self, int_entry_of_axis_for_querying, arr_int_entries_of_axis_not_for_querying, arr_value ) : # normalize count data of a single feature containing (possibly) multiple barcodes\n",
    "    \"\"\" # 2022-07-06 23:58:38 \n",
    "    \"\"\"\n",
    "    # perform normalization in-place\n",
    "    for i, e in enumerate( arr_int_entries_of_axis_not_for_querying.astype( int ) ) : # iterate through barcodes\n",
    "        arr_value[ i ] = arr_value[ i ] / dict_count[ e ] # perform normalization using the total count data for each barcode\n",
    "    arr_value *= int_total_count_target\n",
    "\n",
    "    # perform log1p transformation \n",
    "    arr_value = np.log10( arr_value + 1 )\n",
    "\n",
    "    # calculate deviation\n",
    "    int_num_records = len( arr_value ) # retrieve the number of records of the current entry\n",
    "    dict_summary = { 'normalized_log1p_sum' : np.sum( arr_value ) if int_num_records > 30 else sum( arr_value ) } # if an input array has more than 30 elements, use np.sum to calculate the sum\n",
    "    dict_summary[ 'normalized_log1p_mean' ] = dict_summary[ 'normalized_log1p_sum' ] / int_total_num_barcodes # calculate the mean\n",
    "    arr_dev = ( arr_value - dict_summary[ 'normalized_log1p_mean' ] ) ** 2 # calculate the deviation\n",
    "    dict_summary[ 'normalized_log1p_deviation' ] = np.sum( arr_dev ) if int_num_records > 30 else sum( arr_dev )\n",
    "    dict_summary[ 'normalized_log1p_variance' ] = dict_summary[ 'normalized_log1p_deviation' ] / ( int_total_num_barcodes - 1 ) if int_total_num_barcodes > 1 else np.nan\n",
    "    return dict_summary    \n",
    "\n",
    "# calculate the metric for identifying highly variable genes\n",
    "self.summarize( name_layer_raw, 'feature', func )\n"
   ]
  },
  {
   "cell_type": "code",
   "execution_count": null,
   "id": "fc422323",
   "metadata": {
    "ExecuteTime": {
     "end_time": "2022-08-12T03:57:55.250130Z",
     "start_time": "2022-08-12T03:57:54.653380Z"
    },
    "hidden": true
   },
   "outputs": [],
   "source": [
    "%memit"
   ]
  },
  {
   "cell_type": "code",
   "execution_count": null,
   "id": "e39901a6",
   "metadata": {
    "ExecuteTime": {
     "end_time": "2022-08-12T06:34:55.017715Z",
     "start_time": "2022-08-12T06:34:52.795681Z"
    },
    "hidden": true
   },
   "outputs": [],
   "source": [
    "# identify highly variable genes\n",
    "self.identify_highly_variable_features( name_layer = f'{name_layer_raw}_normalized_log1p', int_num_highly_variable_features = int_num_highly_variable_features, flag_show_graph = True, ** dict_kw_hv )"
   ]
  },
  {
   "cell_type": "code",
   "execution_count": null,
   "id": "26a79e29",
   "metadata": {
    "ExecuteTime": {
     "end_time": "2022-08-12T03:57:57.572783Z",
     "start_time": "2022-08-12T03:57:56.894512Z"
    },
    "hidden": true
   },
   "outputs": [],
   "source": [
    "%memit"
   ]
  },
  {
   "cell_type": "markdown",
   "id": "2bbb0239",
   "metadata": {
    "hidden": true
   },
   "source": [
    "## **write normalized, scaled, log-transformed count data** step"
   ]
  },
  {
   "cell_type": "code",
   "execution_count": null,
   "id": "0fe8ece1",
   "metadata": {
    "ExecuteTime": {
     "end_time": "2022-08-12T04:00:00.603647Z",
     "start_time": "2022-08-12T03:57:57.581574Z"
    },
    "hidden": true
   },
   "outputs": [],
   "source": [
    "# retrieve variance\n",
    "self.ft.meta.load_as_dict( f'{name_layer_raw}_normalized_log1p_variance' )\n",
    "dict_var = self.ft.meta.dict[ f'{name_layer_raw}_normalized_log1p_variance' ] # retrieve total counts for each barcode as a dictionary\n",
    "\n",
    "# write log-normalized, scaled data for the selected highly variable features\n",
    "def func( self, int_entry_of_axis_for_querying, arr_int_entries_of_axis_not_for_querying, arr_value ) : \n",
    "    \"\"\" # 2022-07-06 23:58:38 \n",
    "    \"\"\"\n",
    "    # perform normalization \n",
    "    arr_value *= int_total_count_target / dict_count[ int_entry_of_axis_for_querying ] # perform normalization using the total count data for each barcode\n",
    "\n",
    "    # perform log1p transformation \n",
    "    arr_value = np.log10( arr_value + 1 )\n",
    "\n",
    "    # perform scaling in-place\n",
    "    for i, e in enumerate( arr_int_entries_of_axis_not_for_querying.astype( int ) ) : # iterate through features\n",
    "        arr_value[ i ] = arr_value[ i ] / dict_var[ e ] ** 0.5\n",
    "    arr_value[ arr_value > max_value ] = max_value # capping values above 'max_value'\n",
    "\n",
    "    # return results\n",
    "    return int_entry_of_axis_for_querying, arr_int_entries_of_axis_not_for_querying, arr_value\n",
    "self.apply( name_layer_raw, name_layer_out, func, [ [ 'dense', 'sparse_for_querying_barcodes' ] ] )"
   ]
  },
  {
   "cell_type": "code",
   "execution_count": null,
   "id": "74782cfb",
   "metadata": {
    "ExecuteTime": {
     "end_time": "2022-08-12T04:00:01.426710Z",
     "start_time": "2022-08-12T04:00:00.607801Z"
    },
    "hidden": true
   },
   "outputs": [],
   "source": [
    "%memit"
   ]
  },
  {
   "cell_type": "code",
   "execution_count": null,
   "id": "00964b73",
   "metadata": {
    "hidden": true
   },
   "outputs": [],
   "source": []
  },
  {
   "cell_type": "code",
   "execution_count": null,
   "id": "3e7b0faf",
   "metadata": {
    "ExecuteTime": {
     "end_time": "2022-08-12T13:43:07.938502Z",
     "start_time": "2022-08-12T13:43:07.932737Z"
    },
    "hidden": true
   },
   "outputs": [],
   "source": [
    "int_num_barcodes_in_pumap_batch = 22000\n",
    "int_num_barcodes_for_a_batch = 20000\n",
    "float_prop_subsampling_pca = 0.3"
   ]
  },
  {
   "cell_type": "markdown",
   "id": "8923bec6",
   "metadata": {
    "hidden": true
   },
   "source": [
    "**train PCA**"
   ]
  },
  {
   "cell_type": "code",
   "execution_count": null,
   "id": "f5622774",
   "metadata": {
    "ExecuteTime": {
     "end_time": "2022-08-12T13:45:15.191047Z",
     "start_time": "2022-08-12T13:43:07.942101Z"
    },
    "hidden": true
   },
   "outputs": [],
   "source": [
    "ram.train_pca( \n",
    "    name_layer = 'normalized_log1p_scaled', \n",
    "    int_num_components = 30, \n",
    "    int_num_barcodes_in_ipca_batch = int_num_barcodes_for_a_batch, \n",
    "    name_col_filter = 'filter_pca', \n",
    "    float_prop_subsampling = float_prop_subsampling_pca, \n",
    "    name_col_filter_subsampled = 'filter_pca_subsampled', \n",
    "    flag_ipca_whiten = False, \n",
    "    name_model = 'ipca', \n",
    "    int_num_threads = 3, \n",
    "    flag_show_graph = True\n",
    ")"
   ]
  },
  {
   "cell_type": "code",
   "execution_count": null,
   "id": "8f12b884",
   "metadata": {
    "ExecuteTime": {
     "end_time": "2022-08-12T13:45:16.700970Z",
     "start_time": "2022-08-12T13:45:15.195169Z"
    },
    "hidden": true
   },
   "outputs": [],
   "source": [
    "%memit"
   ]
  },
  {
   "cell_type": "markdown",
   "id": "9d24ce25",
   "metadata": {
    "hidden": true
   },
   "source": [
    "**apply PCA**"
   ]
  },
  {
   "cell_type": "code",
   "execution_count": null,
   "id": "2e0fac26",
   "metadata": {
    "ExecuteTime": {
     "end_time": "2022-08-12T13:45:56.999669Z",
     "start_time": "2022-08-12T13:45:16.707381Z"
    },
    "hidden": true
   },
   "outputs": [],
   "source": [
    "ram.apply_pca( \n",
    "    name_model = 'ipca', \n",
    "    name_layer = 'normalized_log1p_scaled', \n",
    "    name_col = 'X_pca', \n",
    "    name_col_filter = 'filter_pca', \n",
    "    int_n_components_in_a_chunk = 20, \n",
    "    int_num_threads = 5\n",
    ")"
   ]
  },
  {
   "cell_type": "code",
   "execution_count": null,
   "id": "97400325",
   "metadata": {
    "ExecuteTime": {
     "end_time": "2022-08-12T13:45:58.401337Z",
     "start_time": "2022-08-12T13:45:57.003712Z"
    },
    "hidden": true
   },
   "outputs": [],
   "source": [
    "%memit"
   ]
  },
  {
   "cell_type": "markdown",
   "id": "c4243385",
   "metadata": {
    "hidden": true
   },
   "source": [
    "**perform subsampling**"
   ]
  },
  {
   "cell_type": "code",
   "execution_count": null,
   "id": "a4abf962",
   "metadata": {
    "ExecuteTime": {
     "end_time": "2022-08-12T13:45:58.415854Z",
     "start_time": "2022-08-12T13:45:58.406039Z"
    },
    "hidden": true
   },
   "outputs": [],
   "source": [
    "ram"
   ]
  },
  {
   "cell_type": "code",
   "execution_count": null,
   "id": "5517e237",
   "metadata": {
    "ExecuteTime": {
     "end_time": "2022-08-12T13:51:50.017934Z",
     "start_time": "2022-08-12T13:45:58.419337Z"
    },
    "hidden": true
   },
   "outputs": [],
   "source": [
    "ram.subsample( \n",
    "    int_num_entries_to_use = int_num_barcodes_for_a_batch, \n",
    "    int_num_entries_to_subsample = int_num_barcodes_in_pumap_batch, \n",
    "    int_num_iterations_for_subsampling = 2, \n",
    "    name_col_data = 'X_pca', \n",
    "    int_num_components_data = 20, \n",
    "    int_num_clus_expected = 20, \n",
    "    name_col_label = 'subsampling_label', \n",
    "    name_col_avg_dist = 'subsampling_avg_dist', \n",
    "    axis = 'barcodes', \n",
    "    name_col_filter = 'filter_pca', \n",
    "    name_col_filter_subsampled = \"filter_subsampled\", \n",
    "    resolution = 0.7, \n",
    "    directed = True, \n",
    "    use_weights = True, \n",
    "    dict_kw_leiden_partition = { 'n_iterations' : -1, 'seed' : 0 }, \n",
    "    n_neighbors = 20, \n",
    "    dict_kw_pynndescent = { 'low_memory' : True, 'n_jobs' : None, 'compressed' : False }, \n",
    "    int_num_threads = 10, \n",
    "    int_num_entries_in_a_batch = int_num_barcodes_for_a_batch\n",
    ")"
   ]
  },
  {
   "cell_type": "code",
   "execution_count": null,
   "id": "467aeeeb",
   "metadata": {
    "ExecuteTime": {
     "end_time": "2022-08-12T13:51:51.913465Z",
     "start_time": "2022-08-12T13:51:50.024922Z"
    },
    "hidden": true
   },
   "outputs": [],
   "source": [
    "%memit"
   ]
  },
  {
   "cell_type": "markdown",
   "id": "bf8888a9",
   "metadata": {
    "hidden": true
   },
   "source": [
    "**1st UMAP training**"
   ]
  },
  {
   "cell_type": "code",
   "execution_count": null,
   "id": "06c9e488",
   "metadata": {
    "ExecuteTime": {
     "end_time": "2022-08-12T13:58:06.756557Z",
     "start_time": "2022-08-12T13:51:51.921212Z"
    },
    "hidden": true
   },
   "outputs": [],
   "source": [
    "ram.bc.change_filter( 'filter_subsampled' )\n",
    "ram.train_umap( \n",
    "    name_col_pca = 'X_pca', \n",
    "    int_num_components_pca = 20, \n",
    "    int_num_components_umap = 2, \n",
    "    name_col_filter = 'filter_subsampled', \n",
    "    name_pumap_model = 'pumap'\n",
    ")"
   ]
  },
  {
   "cell_type": "code",
   "execution_count": null,
   "id": "37d0149b",
   "metadata": {
    "ExecuteTime": {
     "end_time": "2022-08-12T13:58:09.311895Z",
     "start_time": "2022-08-12T13:58:06.759204Z"
    },
    "hidden": true
   },
   "outputs": [],
   "source": [
    "%memit"
   ]
  },
  {
   "cell_type": "markdown",
   "id": "c0972653",
   "metadata": {
    "hidden": true
   },
   "source": [
    "**2nd UMAP training**"
   ]
  },
  {
   "cell_type": "code",
   "execution_count": null,
   "id": "2e67b1ed",
   "metadata": {
    "ExecuteTime": {
     "end_time": "2022-08-12T13:58:09.328863Z",
     "start_time": "2022-08-12T13:58:09.317469Z"
    },
    "hidden": true
   },
   "outputs": [],
   "source": [
    "ram"
   ]
  },
  {
   "cell_type": "code",
   "execution_count": null,
   "id": "4a7dc958",
   "metadata": {
    "ExecuteTime": {
     "end_time": "2022-08-12T14:03:51.867036Z",
     "start_time": "2022-08-12T13:58:09.332322Z"
    },
    "hidden": true
   },
   "outputs": [],
   "source": [
    "# 2nd training\n",
    "ram.bc.change_filter( 'filtered_barcodes' )\n",
    "ram.bc.filter = ram.bc.subsample( min( 1, int_num_barcodes_in_pumap_batch / ram.bc.filter.count( ) ) )\n",
    "ram.bc.save_filter( 'filter_subsampled_randomly' )\n",
    "ram.train_umap( \n",
    "    name_col_pca = 'X_pca', \n",
    "    int_num_components_pca = 20, \n",
    "    int_num_components_umap = 2, \n",
    "    name_col_filter = 'filter_subsampled_randomly', \n",
    "    name_pumap_model = 'pumap'\n",
    ")"
   ]
  },
  {
   "cell_type": "code",
   "execution_count": null,
   "id": "2b6633be",
   "metadata": {
    "ExecuteTime": {
     "end_time": "2022-08-12T14:03:54.398329Z",
     "start_time": "2022-08-12T14:03:51.868954Z"
    },
    "hidden": true
   },
   "outputs": [],
   "source": [
    "%memit"
   ]
  },
  {
   "cell_type": "markdown",
   "id": "2376b143",
   "metadata": {
    "hidden": true
   },
   "source": [
    "**Apply trained p-UMAP model**"
   ]
  },
  {
   "cell_type": "code",
   "execution_count": null,
   "id": "20d24b14",
   "metadata": {
    "ExecuteTime": {
     "end_time": "2022-08-12T14:03:57.961449Z",
     "start_time": "2022-08-12T14:03:54.405448Z"
    },
    "hidden": true
   },
   "outputs": [],
   "source": [
    "# apply umap\n",
    "ram.apply_umap( name_col_pca = 'X_pca', name_col_umap = 'X_umap', int_num_barcodes_in_pumap_batch = int_num_barcodes_for_a_batch, name_col_filter = 'filtered_barcodes', name_pumap_model = 'pumap' )"
   ]
  },
  {
   "cell_type": "code",
   "execution_count": null,
   "id": "dfb66ba6",
   "metadata": {
    "ExecuteTime": {
     "end_time": "2022-08-12T14:03:59.691804Z",
     "start_time": "2022-08-12T14:03:57.965011Z"
    },
    "hidden": true
   },
   "outputs": [],
   "source": [
    "%memit"
   ]
  },
  {
   "cell_type": "markdown",
   "id": "a0207e2a",
   "metadata": {
    "hidden": true
   },
   "source": [
    "**Convert RamData -> Scanpy AnnData for further detailed analysis**"
   ]
  },
  {
   "cell_type": "code",
   "execution_count": null,
   "id": "864ac64e",
   "metadata": {
    "ExecuteTime": {
     "end_time": "2022-08-12T14:46:52.023839Z",
     "start_time": "2022-08-12T14:46:51.834049Z"
    },
    "hidden": true
   },
   "outputs": [],
   "source": [
    "# subsample features\n",
    "ram.ft.filter = ram.ft.subsample( 0.01 )"
   ]
  },
  {
   "cell_type": "code",
   "execution_count": null,
   "id": "3ad7de37",
   "metadata": {
    "ExecuteTime": {
     "end_time": "2022-08-12T14:46:54.549920Z",
     "start_time": "2022-08-12T14:46:54.539542Z"
    },
    "hidden": true
   },
   "outputs": [],
   "source": [
    "ram"
   ]
  },
  {
   "cell_type": "code",
   "execution_count": null,
   "id": "b10d3df0",
   "metadata": {
    "ExecuteTime": {
     "end_time": "2022-08-12T14:47:08.975618Z",
     "start_time": "2022-08-12T14:47:01.139057Z"
    },
    "hidden": true
   },
   "outputs": [],
   "source": [
    "adata = ram[ 'raw', :, [ 'str', 'raw_sum', 'filter_subsampled', 'filter_subsampled_randomly', 'filter_subsampled', { 'X_umap', 'subsampling_label' } ], :, [ 'str', 'raw_normalized_log1p_mean' ] ]\n",
    "adata.obs[ 'name_sample' ] = list( e.split( '|', 1 )[ 0 ] for e in adata.obs.index.values )\n",
    "adata.obs[ 'leiden_scelephant' ] = adata.obsm[ 'subsampling_label' ][ :, 1 ]\n",
    "adata.obs[ 'leiden_scelephant' ] = adata.obs[ 'leiden_scelephant' ].astype( str ).astype( object )"
   ]
  },
  {
   "cell_type": "code",
   "execution_count": null,
   "id": "85fcd11e",
   "metadata": {
    "ExecuteTime": {
     "end_time": "2022-08-12T14:47:16.180109Z",
     "start_time": "2022-08-12T14:47:14.260026Z"
    },
    "hidden": true
   },
   "outputs": [],
   "source": [
    "%memit"
   ]
  },
  {
   "cell_type": "code",
   "execution_count": null,
   "id": "e30aa6cb",
   "metadata": {
    "ExecuteTime": {
     "end_time": "2022-08-12T14:47:43.363779Z",
     "start_time": "2022-08-12T14:47:43.355364Z"
    },
    "hidden": true
   },
   "outputs": [],
   "source": [
    "import scanpy as sc"
   ]
  },
  {
   "cell_type": "code",
   "execution_count": null,
   "id": "582bfa52",
   "metadata": {
    "ExecuteTime": {
     "end_time": "2022-08-12T14:47:45.880135Z",
     "start_time": "2022-08-12T14:47:44.087919Z"
    },
    "hidden": true
   },
   "outputs": [],
   "source": [
    "sc.pl.umap( adata, color = 'leiden_scelephant' )"
   ]
  },
  {
   "cell_type": "code",
   "execution_count": null,
   "id": "300b1201",
   "metadata": {
    "ExecuteTime": {
     "end_time": "2022-08-12T14:47:49.146591Z",
     "start_time": "2022-08-12T14:47:46.831885Z"
    },
    "hidden": true
   },
   "outputs": [],
   "source": [
    "sc.pl.umap( adata, color = 'name_sample', palette = 'gist_rainbow' )"
   ]
  },
  {
   "cell_type": "code",
   "execution_count": null,
   "id": "b37c6dc2",
   "metadata": {
    "ExecuteTime": {
     "end_time": "2022-08-12T14:51:27.383561Z",
     "start_time": "2022-08-12T14:51:24.950884Z"
    },
    "hidden": true,
    "scrolled": false
   },
   "outputs": [],
   "source": [
    "for e in adata.var.index.values[ : 3 ] :\n",
    "    sc.pl.umap( adata, color = e, cmap = 'Reds', vmax = 5 )"
   ]
  },
  {
   "cell_type": "markdown",
   "id": "2abddba2",
   "metadata": {},
   "source": [
    "# future tutorials"
   ]
  },
  {
   "cell_type": "code",
   "execution_count": null,
   "id": "08a02f3a",
   "metadata": {},
   "outputs": [],
   "source": []
  },
  {
   "cell_type": "code",
   "execution_count": null,
   "id": "3dae3078",
   "metadata": {},
   "outputs": [],
   "source": []
  },
  {
   "cell_type": "code",
   "execution_count": null,
   "id": "2ee886fc",
   "metadata": {},
   "outputs": [],
   "source": []
  },
  {
   "cell_type": "code",
   "execution_count": null,
   "id": "c86f15d9",
   "metadata": {},
   "outputs": [],
   "source": []
  },
  {
   "cell_type": "code",
   "execution_count": null,
   "id": "29ac9fc2",
   "metadata": {},
   "outputs": [],
   "source": []
  },
  {
   "cell_type": "code",
   "execution_count": null,
   "id": "9b3a29f2",
   "metadata": {},
   "outputs": [],
   "source": []
  },
  {
   "cell_type": "code",
   "execution_count": null,
   "id": "47eb8c7d",
   "metadata": {},
   "outputs": [],
   "source": []
  },
  {
   "cell_type": "code",
   "execution_count": null,
   "id": "baa856af",
   "metadata": {},
   "outputs": [],
   "source": []
  },
  {
   "cell_type": "code",
   "execution_count": null,
   "id": "7b5aa206",
   "metadata": {},
   "outputs": [],
   "source": []
  },
  {
   "cell_type": "code",
   "execution_count": null,
   "id": "7e463b8a",
   "metadata": {},
   "outputs": [],
   "source": []
  },
  {
   "cell_type": "code",
   "execution_count": null,
   "id": "fc380113",
   "metadata": {},
   "outputs": [],
   "source": []
  },
  {
   "cell_type": "code",
   "execution_count": null,
   "id": "da29923b",
   "metadata": {},
   "outputs": [],
   "source": []
  },
  {
   "cell_type": "code",
   "execution_count": null,
   "id": "ef5a7ace",
   "metadata": {},
   "outputs": [],
   "source": []
  },
  {
   "cell_type": "code",
   "execution_count": null,
   "id": "fd045655",
   "metadata": {},
   "outputs": [],
   "source": []
  },
  {
   "cell_type": "code",
   "execution_count": null,
   "id": "ca3b542d",
   "metadata": {},
   "outputs": [],
   "source": []
  },
  {
   "cell_type": "code",
   "execution_count": null,
   "id": "dc758df8",
   "metadata": {},
   "outputs": [],
   "source": []
  },
  {
   "cell_type": "code",
   "execution_count": null,
   "id": "0ae2b1f0",
   "metadata": {},
   "outputs": [],
   "source": []
  },
  {
   "cell_type": "code",
   "execution_count": null,
   "id": "817ddc63",
   "metadata": {},
   "outputs": [],
   "source": []
  },
  {
   "cell_type": "code",
   "execution_count": null,
   "id": "453b7417",
   "metadata": {},
   "outputs": [],
   "source": []
  },
  {
   "cell_type": "code",
   "execution_count": null,
   "id": "b53f5fab",
   "metadata": {},
   "outputs": [],
   "source": []
  },
  {
   "cell_type": "code",
   "execution_count": null,
   "id": "e8a26f0c",
   "metadata": {},
   "outputs": [],
   "source": []
  },
  {
   "cell_type": "code",
   "execution_count": null,
   "id": "c4e75877",
   "metadata": {},
   "outputs": [],
   "source": []
  },
  {
   "cell_type": "code",
   "execution_count": null,
   "id": "582f804e",
   "metadata": {},
   "outputs": [],
   "source": []
  },
  {
   "cell_type": "code",
   "execution_count": null,
   "id": "186abbe9",
   "metadata": {},
   "outputs": [],
   "source": []
  },
  {
   "cell_type": "code",
   "execution_count": null,
   "id": "8b9daf5f",
   "metadata": {},
   "outputs": [],
   "source": []
  },
  {
   "cell_type": "code",
   "execution_count": null,
   "id": "bd5fd679",
   "metadata": {},
   "outputs": [],
   "source": []
  },
  {
   "cell_type": "code",
   "execution_count": null,
   "id": "e4a46961",
   "metadata": {},
   "outputs": [],
   "source": []
  },
  {
   "cell_type": "code",
   "execution_count": null,
   "id": "8f6b73c4",
   "metadata": {},
   "outputs": [],
   "source": []
  },
  {
   "cell_type": "code",
   "execution_count": null,
   "id": "93be4ab1",
   "metadata": {},
   "outputs": [],
   "source": []
  },
  {
   "cell_type": "code",
   "execution_count": null,
   "id": "00549a57",
   "metadata": {},
   "outputs": [],
   "source": []
  },
  {
   "cell_type": "code",
   "execution_count": null,
   "id": "964f9dcd",
   "metadata": {},
   "outputs": [],
   "source": []
  },
  {
   "cell_type": "code",
   "execution_count": null,
   "id": "a0d13b7f",
   "metadata": {},
   "outputs": [],
   "source": []
  },
  {
   "cell_type": "code",
   "execution_count": null,
   "id": "58e06e54",
   "metadata": {},
   "outputs": [],
   "source": []
  },
  {
   "cell_type": "code",
   "execution_count": null,
   "id": "3300aab2",
   "metadata": {},
   "outputs": [],
   "source": []
  },
  {
   "cell_type": "code",
   "execution_count": null,
   "id": "bd4144cd",
   "metadata": {},
   "outputs": [],
   "source": []
  },
  {
   "cell_type": "code",
   "execution_count": null,
   "id": "0f137715",
   "metadata": {},
   "outputs": [],
   "source": []
  },
  {
   "cell_type": "code",
   "execution_count": null,
   "id": "78edeaff",
   "metadata": {},
   "outputs": [],
   "source": []
  },
  {
   "cell_type": "code",
   "execution_count": null,
   "id": "2d64095a",
   "metadata": {},
   "outputs": [],
   "source": []
  },
  {
   "cell_type": "code",
   "execution_count": null,
   "id": "b2084313",
   "metadata": {},
   "outputs": [],
   "source": []
  },
  {
   "cell_type": "code",
   "execution_count": null,
   "id": "59118ed1",
   "metadata": {},
   "outputs": [],
   "source": []
  },
  {
   "cell_type": "code",
   "execution_count": null,
   "id": "1767ecd1",
   "metadata": {},
   "outputs": [],
   "source": []
  },
  {
   "cell_type": "code",
   "execution_count": null,
   "id": "cd44c077",
   "metadata": {},
   "outputs": [],
   "source": []
  },
  {
   "cell_type": "code",
   "execution_count": null,
   "id": "997892f5",
   "metadata": {},
   "outputs": [],
   "source": []
  },
  {
   "cell_type": "code",
   "execution_count": null,
   "id": "aa46bc5b",
   "metadata": {},
   "outputs": [],
   "source": []
  },
  {
   "cell_type": "code",
   "execution_count": null,
   "id": "33a9c63a",
   "metadata": {},
   "outputs": [],
   "source": []
  },
  {
   "cell_type": "code",
   "execution_count": null,
   "id": "d62be491",
   "metadata": {},
   "outputs": [],
   "source": []
  },
  {
   "cell_type": "code",
   "execution_count": null,
   "id": "6ddc6812",
   "metadata": {},
   "outputs": [],
   "source": []
  },
  {
   "cell_type": "code",
   "execution_count": null,
   "id": "ada48260",
   "metadata": {},
   "outputs": [],
   "source": []
  },
  {
   "cell_type": "code",
   "execution_count": null,
   "id": "91aa87b9",
   "metadata": {},
   "outputs": [],
   "source": []
  },
  {
   "cell_type": "code",
   "execution_count": null,
   "id": "5e3e4e80",
   "metadata": {},
   "outputs": [],
   "source": []
  },
  {
   "cell_type": "code",
   "execution_count": null,
   "id": "6d2cdf14",
   "metadata": {},
   "outputs": [],
   "source": []
  },
  {
   "cell_type": "code",
   "execution_count": null,
   "id": "9434f69b",
   "metadata": {},
   "outputs": [],
   "source": []
  },
  {
   "cell_type": "code",
   "execution_count": null,
   "id": "5235bc68",
   "metadata": {},
   "outputs": [],
   "source": []
  },
  {
   "cell_type": "code",
   "execution_count": null,
   "id": "e80188d4",
   "metadata": {},
   "outputs": [],
   "source": []
  },
  {
   "cell_type": "code",
   "execution_count": null,
   "id": "c22acc2a",
   "metadata": {},
   "outputs": [],
   "source": []
  },
  {
   "cell_type": "code",
   "execution_count": null,
   "id": "c89df7d1",
   "metadata": {},
   "outputs": [],
   "source": []
  },
  {
   "cell_type": "code",
   "execution_count": null,
   "id": "e92047ff",
   "metadata": {},
   "outputs": [],
   "source": []
  },
  {
   "cell_type": "code",
   "execution_count": null,
   "id": "fb62600a",
   "metadata": {},
   "outputs": [],
   "source": []
  },
  {
   "cell_type": "code",
   "execution_count": null,
   "id": "2c692dc0",
   "metadata": {},
   "outputs": [],
   "source": []
  },
  {
   "cell_type": "code",
   "execution_count": null,
   "id": "f7e9f2b4",
   "metadata": {},
   "outputs": [],
   "source": []
  },
  {
   "cell_type": "code",
   "execution_count": null,
   "id": "87c4f327",
   "metadata": {},
   "outputs": [],
   "source": []
  },
  {
   "cell_type": "code",
   "execution_count": null,
   "id": "d2cb7490",
   "metadata": {},
   "outputs": [],
   "source": []
  },
  {
   "cell_type": "code",
   "execution_count": null,
   "id": "b1e8efb6",
   "metadata": {},
   "outputs": [],
   "source": []
  },
  {
   "cell_type": "code",
   "execution_count": null,
   "id": "b847ca67",
   "metadata": {},
   "outputs": [],
   "source": []
  },
  {
   "cell_type": "code",
   "execution_count": null,
   "id": "63dd635f",
   "metadata": {},
   "outputs": [],
   "source": []
  },
  {
   "cell_type": "code",
   "execution_count": null,
   "id": "27e2e9be",
   "metadata": {},
   "outputs": [],
   "source": []
  },
  {
   "cell_type": "code",
   "execution_count": null,
   "id": "845ac0bf",
   "metadata": {},
   "outputs": [],
   "source": []
  }
 ],
 "metadata": {
  "kernelspec": {
   "display_name": "Python 3 (ipykernel)",
   "language": "python",
   "name": "python3"
  },
  "language_info": {
   "codemirror_mode": {
    "name": "ipython",
    "version": 3
   },
   "file_extension": ".py",
   "mimetype": "text/x-python",
   "name": "python",
   "nbconvert_exporter": "python",
   "pygments_lexer": "ipython3",
   "version": "3.10.9"
  },
  "toc": {
   "base_numbering": 1,
   "nav_menu": {},
   "number_sections": true,
   "sideBar": true,
   "skip_h1_title": false,
   "title_cell": "Table of Contents",
   "title_sidebar": "Contents",
   "toc_cell": false,
   "toc_position": {},
   "toc_section_display": true,
   "toc_window_display": false
  }
 },
 "nbformat": 4,
 "nbformat_minor": 5
}
